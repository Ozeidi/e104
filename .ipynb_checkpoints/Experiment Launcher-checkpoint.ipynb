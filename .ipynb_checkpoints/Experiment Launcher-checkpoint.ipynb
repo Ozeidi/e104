{
 "cells": [
  {
   "cell_type": "code",
   "execution_count": 1,
   "metadata": {
    "collapsed": false,
    "scrolled": true
   },
   "outputs": [
    {
     "name": "stderr",
     "output_type": "stream",
     "text": [
      "C:\\Users\\ozeidi\\Anaconda3\\envs\\nilmtk-env\\lib\\site-packages\\h5py\\__init__.py:36: FutureWarning: Conversion of the second argument of issubdtype from `float` to `np.floating` is deprecated. In future, it will be treated as `np.float64 == np.dtype(float).type`.\n",
      "  from ._conv import register_converters as _register_converters\n"
     ]
    },
    {
     "name": "stdout",
     "output_type": "stream",
     "text": [
      "[name: \"/device:CPU:0\"\n",
      "device_type: \"CPU\"\n",
      "memory_limit: 268435456\n",
      "locality {\n",
      "}\n",
      "incarnation: 11465519731237355996\n",
      "]\n"
     ]
    }
   ],
   "source": [
    "from tensorflow.python.client import device_lib\n",
    "print(device_lib.list_local_devices())\n",
    "\n"
   ]
  },
  {
   "cell_type": "code",
   "execution_count": 2,
   "metadata": {
    "collapsed": false
   },
   "outputs": [
    {
     "data": {
      "text/html": [
       "<script>\n",
       "code_show_err=false; \n",
       "function code_toggle_err() {\n",
       " if (code_show_err){\n",
       " $('div.output_stderr').hide();\n",
       " } else {\n",
       " $('div.output_stderr').show();\n",
       " }\n",
       " code_show_err = !code_show_err\n",
       "} \n",
       "$( document ).ready(code_toggle_err);\n",
       "</script>\n",
       "To toggle on/off output_stderr, click <a href=\"javascript:code_toggle_err()\">here</a>."
      ],
      "text/plain": [
       "<IPython.core.display.HTML object>"
      ]
     },
     "execution_count": 2,
     "metadata": {},
     "output_type": "execute_result"
    }
   ],
   "source": [
    "import warnings\n",
    "warnings.filterwarnings('ignore')\n",
    "from IPython.display import HTML\n",
    "HTML('''<script>\n",
    "code_show_err=false; \n",
    "function code_toggle_err() {\n",
    " if (code_show_err){\n",
    " $('div.output_stderr').hide();\n",
    " } else {\n",
    " $('div.output_stderr').show();\n",
    " }\n",
    " code_show_err = !code_show_err\n",
    "} \n",
    "$( document ).ready(code_toggle_err);\n",
    "</script>\n",
    "To toggle on/off output_stderr, click <a href=\"javascript:code_toggle_err()\">here</a>.''')"
   ]
  },
  {
   "cell_type": "code",
   "execution_count": 4,
   "metadata": {
    "collapsed": false,
    "scrolled": false
   },
   "outputs": [
    {
     "name": "stdout",
     "output_type": "stream",
     "text": [
      "_________________________________________________________________\n",
      "Layer (type)                 Output Shape              Param #   \n",
      "=================================================================\n",
      "conv1d_16 (Conv1D)           (None, 100, 30)           330       \n",
      "_________________________________________________________________\n",
      "dropout_19 (Dropout)         (None, 100, 30)           0         \n",
      "_________________________________________________________________\n",
      "conv1d_17 (Conv1D)           (None, 100, 30)           7230      \n",
      "_________________________________________________________________\n",
      "dropout_20 (Dropout)         (None, 100, 30)           0         \n",
      "_________________________________________________________________\n",
      "conv1d_18 (Conv1D)           (None, 100, 40)           7240      \n",
      "_________________________________________________________________\n",
      "dropout_21 (Dropout)         (None, 100, 40)           0         \n",
      "_________________________________________________________________\n",
      "conv1d_19 (Conv1D)           (None, 100, 50)           10050     \n",
      "_________________________________________________________________\n",
      "dropout_22 (Dropout)         (None, 100, 50)           0         \n",
      "_________________________________________________________________\n",
      "conv1d_20 (Conv1D)           (None, 100, 50)           12550     \n",
      "_________________________________________________________________\n",
      "dropout_23 (Dropout)         (None, 100, 50)           0         \n",
      "_________________________________________________________________\n",
      "flatten_4 (Flatten)          (None, 5000)              0         \n",
      "_________________________________________________________________\n",
      "dense_7 (Dense)              (None, 1024)              5121024   \n",
      "_________________________________________________________________\n",
      "dropout_24 (Dropout)         (None, 1024)              0         \n",
      "_________________________________________________________________\n",
      "dense_8 (Dense)              (None, 1)                 1025      \n",
      "=================================================================\n",
      "Total params: 5,159,449\n",
      "Trainable params: 5,159,449\n",
      "Non-trainable params: 0\n",
      "_________________________________________________________________\n",
      "None\n",
      "(3557400,)\n",
      "(911163,)\n",
      "OMAR SHAPES: [(3557301, 100), (911062, 100)]\n",
      "Omar X_batch:(4468363, 100, 1), Y_batch:(4468363,)\n",
      "Max Main value 8281.1\n",
      "Omar, Total Size of g= 4468363, spe = 698\n",
      "output/Base_S2P_DOR10/dish washer/CHECKPOINT-dish washer-10epochs.h5\n",
      "Epoch 11/30\n",
      "696/698 [============================>.] - ETA: 0s - loss: 0.0127 - mean_absolute_error: 0.0282 - acc: 0.0000e+00Epoch 00010: saving model to output/Base_S2P_DOR10/dish washer/CHECKPOINT-dish washer-10epochs.h5\n",
      "698/698 [==============================] - 6s - loss: 0.0126 - mean_absolute_error: 0.0282 - acc: 0.0000e+00     \n",
      "Epoch 12/30\n",
      "694/698 [============================>.] - ETA: 0s - loss: 0.0125 - mean_absolute_error: 0.0288 - acc: 0.0000e+00Epoch 00011: saving model to output/Base_S2P_DOR10/dish washer/CHECKPOINT-dish washer-11epochs.h5\n",
      "698/698 [==============================] - 6s - loss: 0.0125 - mean_absolute_error: 0.0289 - acc: 0.0000e+00     \n",
      "Epoch 13/30\n",
      "692/698 [============================>.] - ETA: 0s - loss: 0.0127 - mean_absolute_error: 0.0285 - acc: 1.1290e-05Epoch 00012: saving model to output/Base_S2P_DOR10/dish washer/CHECKPOINT-dish washer-12epochs.h5\n",
      "698/698 [==============================] - 6s - loss: 0.0128 - mean_absolute_error: 0.0285 - acc: 1.1193e-05     \n",
      "Epoch 14/30\n",
      "694/698 [============================>.] - ETA: 0s - loss: 0.0127 - mean_absolute_error: 0.0271 - acc: 0.0000e+00Epoch 00013: saving model to output/Base_S2P_DOR10/dish washer/CHECKPOINT-dish washer-13epochs.h5\n",
      "698/698 [==============================] - 6s - loss: 0.0128 - mean_absolute_error: 0.0271 - acc: 0.0000e+00     \n",
      "Epoch 15/30\n",
      "696/698 [============================>.] - ETA: 0s - loss: 0.0115 - mean_absolute_error: 0.0273 - acc: 0.0000e+00Epoch 00014: saving model to output/Base_S2P_DOR10/dish washer/CHECKPOINT-dish washer-14epochs.h5\n",
      "698/698 [==============================] - 6s - loss: 0.0115 - mean_absolute_error: 0.0273 - acc: 0.0000e+00     \n",
      "Epoch 16/30\n",
      "696/698 [============================>.] - ETA: 0s - loss: 0.0112 - mean_absolute_error: 0.0254 - acc: 0.0000e+00Epoch 00015: saving model to output/Base_S2P_DOR10/dish washer/CHECKPOINT-dish washer-15epochs.h5\n",
      "698/698 [==============================] - 6s - loss: 0.0112 - mean_absolute_error: 0.0254 - acc: 0.0000e+00     \n",
      "Epoch 17/30\n",
      "692/698 [============================>.] - ETA: 0s - loss: 0.0106 - mean_absolute_error: 0.0254 - acc: 0.0000e+00Epoch 00016: saving model to output/Base_S2P_DOR10/dish washer/CHECKPOINT-dish washer-16epochs.h5\n",
      "698/698 [==============================] - 6s - loss: 0.0105 - mean_absolute_error: 0.0254 - acc: 0.0000e+00     \n",
      "Epoch 18/30\n",
      "697/698 [============================>.] - ETA: 0s - loss: 0.0104 - mean_absolute_error: 0.0242 - acc: 0.0000e+00Epoch 00017: saving model to output/Base_S2P_DOR10/dish washer/CHECKPOINT-dish washer-17epochs.h5\n",
      "698/698 [==============================] - 6s - loss: 0.0104 - mean_absolute_error: 0.0242 - acc: 0.0000e+00     \n",
      "Epoch 19/30\n",
      "695/698 [============================>.] - ETA: 0s - loss: 0.0100 - mean_absolute_error: 0.0245 - acc: 0.0000e+00Epoch 00018: saving model to output/Base_S2P_DOR10/dish washer/CHECKPOINT-dish washer-18epochs.h5\n",
      "698/698 [==============================] - 6s - loss: 0.0100 - mean_absolute_error: 0.0245 - acc: 0.0000e+00     \n",
      "Epoch 20/30\n",
      "697/698 [============================>.] - ETA: 0s - loss: 0.0102 - mean_absolute_error: 0.0238 - acc: 0.0000e+00Epoch 00019: saving model to output/Base_S2P_DOR10/dish washer/CHECKPOINT-dish washer-19epochs.h5\n",
      "698/698 [==============================] - 6s - loss: 0.0103 - mean_absolute_error: 0.0238 - acc: 0.0000e+00     \n",
      "Epoch 21/30\n",
      "696/698 [============================>.] - ETA: 0s - loss: 0.0090 - mean_absolute_error: 0.0222 - acc: 0.0000e+00Epoch 00020: saving model to output/Base_S2P_DOR10/dish washer/CHECKPOINT-dish washer-20epochs.h5\n",
      "698/698 [==============================] - 6s - loss: 0.0090 - mean_absolute_error: 0.0222 - acc: 0.0000e+00     \n",
      "Epoch 22/30\n",
      "696/698 [============================>.] - ETA: 0s - loss: 0.0091 - mean_absolute_error: 0.0223 - acc: 0.0000e+00Epoch 00021: saving model to output/Base_S2P_DOR10/dish washer/CHECKPOINT-dish washer-21epochs.h5\n",
      "698/698 [==============================] - 6s - loss: 0.0091 - mean_absolute_error: 0.0223 - acc: 0.0000e+00     \n",
      "Epoch 23/30\n",
      "697/698 [============================>.] - ETA: 0s - loss: 0.0091 - mean_absolute_error: 0.0220 - acc: 1.1209e-05Epoch 00022: saving model to output/Base_S2P_DOR10/dish washer/CHECKPOINT-dish washer-22epochs.h5\n",
      "698/698 [==============================] - 6s - loss: 0.0092 - mean_absolute_error: 0.0221 - acc: 1.1193e-05     \n",
      "Epoch 24/30\n",
      "695/698 [============================>.] - ETA: 0s - loss: 0.0089 - mean_absolute_error: 0.0224 - acc: 0.0000e+00Epoch 00023: saving model to output/Base_S2P_DOR10/dish washer/CHECKPOINT-dish washer-23epochs.h5\n",
      "698/698 [==============================] - 6s - loss: 0.0089 - mean_absolute_error: 0.0223 - acc: 0.0000e+00     \n",
      "Epoch 25/30\n",
      "693/698 [============================>.] - ETA: 0s - loss: 0.0090 - mean_absolute_error: 0.0213 - acc: 0.0000e+00Epoch 00024: saving model to output/Base_S2P_DOR10/dish washer/CHECKPOINT-dish washer-24epochs.h5\n",
      "698/698 [==============================] - 6s - loss: 0.0090 - mean_absolute_error: 0.0213 - acc: 0.0000e+00     \n",
      "Epoch 26/30\n",
      "697/698 [============================>.] - ETA: 0s - loss: 0.0088 - mean_absolute_error: 0.0211 - acc: 0.0000e+00Epoch 00025: saving model to output/Base_S2P_DOR10/dish washer/CHECKPOINT-dish washer-25epochs.h5\n",
      "698/698 [==============================] - 6s - loss: 0.0088 - mean_absolute_error: 0.0211 - acc: 0.0000e+00     \n",
      "Epoch 27/30\n",
      "692/698 [============================>.] - ETA: 0s - loss: 0.0076 - mean_absolute_error: 0.0185 - acc: 0.0000e+00Epoch 00026: saving model to output/Base_S2P_DOR10/dish washer/CHECKPOINT-dish washer-26epochs.h5\n",
      "698/698 [==============================] - 6s - loss: 0.0075 - mean_absolute_error: 0.0185 - acc: 0.0000e+00     \n",
      "Epoch 28/30\n",
      "691/698 [============================>.] - ETA: 0s - loss: 0.0079 - mean_absolute_error: 0.0191 - acc: 0.0000e+00Epoch 00027: saving model to output/Base_S2P_DOR10/dish washer/CHECKPOINT-dish washer-27epochs.h5\n",
      "698/698 [==============================] - 6s - loss: 0.0079 - mean_absolute_error: 0.0191 - acc: 0.0000e+00     \n",
      "Epoch 29/30\n",
      "695/698 [============================>.] - ETA: 0s - loss: 0.0076 - mean_absolute_error: 0.0185 - acc: 0.0000e+00Epoch 00028: saving model to output/Base_S2P_DOR10/dish washer/CHECKPOINT-dish washer-28epochs.h5\n",
      "698/698 [==============================] - 6s - loss: 0.0076 - mean_absolute_error: 0.0185 - acc: 0.0000e+00     \n",
      "Epoch 30/30\n",
      "695/698 [============================>.] - ETA: 0s - loss: 0.0077 - mean_absolute_error: 0.0181 - acc: 0.0000e+00Epoch 00029: saving model to output/Base_S2P_DOR10/dish washer/CHECKPOINT-dish washer-29epochs.h5\n",
      "698/698 [==============================] - 6s - loss: 0.0077 - mean_absolute_error: 0.0181 - acc: 0.0000e+00     \n",
      "output/Base_S2P_DOR10/dish washer/dish washer_loss.png\n",
      "output/Base_S2P_DOR10/dish washer/dish washer_disag-out_30epochs.h5\n",
      "New sensible chunk: 1084581\n",
      "New sensible chunk: 1095\n",
      "New sensible chunk: 338377\n",
      "Omar Disagregate complete for dish washer\n",
      "                   Recall Precision  Accuracy        F1      RETE     MAE\n",
      "washing_machine       NaN       NaN       NaN       NaN       NaN     NaN\n",
      "fridge                NaN       NaN       NaN       NaN       NaN     NaN\n",
      "kettle                NaN       NaN       NaN       NaN       NaN     NaN\n",
      "dish_washer           NaN       NaN       NaN       NaN       NaN     NaN\n",
      "microwave             NaN       NaN       NaN       NaN       NaN     NaN\n",
      "dish washer      0.404377    0.3165  0.895203  0.355082  0.532922  27.787\n"
     ]
    }
   ],
   "source": [
    "\n",
    "!cd \"/projects/da33/ozeidi/Project/experiments/e104\"\n",
    "%run src/experiment.py  dish_washer Base_S2P_DOR10 10 30"
   ]
  },
  {
   "cell_type": "code",
   "execution_count": 1,
   "metadata": {
    "collapsed": false,
    "scrolled": false
   },
   "outputs": [
    {
     "name": "stderr",
     "output_type": "stream",
     "text": [
      "/usr/local/anaconda/5.0.1-Python3.6-gcc5/envs/tensorflow-1.4-py3.6/lib/python3.6/importlib/_bootstrap.py:219: RuntimeWarning: numpy.dtype size changed, may indicate binary incompatibility. Expected 96, got 88\n",
      "  return f(*args, **kwds)\n",
      "/usr/local/anaconda/5.0.1-Python3.6-gcc5/envs/tensorflow-1.4-py3.6/lib/python3.6/site-packages/tensorflow/python/framework/ops.py:766: DeprecationWarning: builtin type EagerTensor has no __module__ attribute\n",
      "  EagerTensor = c_api.TFE_Py_InitEagerTensor(_EagerTensorBase)\n",
      "/usr/local/anaconda/5.0.1-Python3.6-gcc5/envs/tensorflow-1.4-py3.6/lib/python3.6/site-packages/tensorflow/python/util/tf_inspect.py:45: DeprecationWarning: inspect.getargspec() is deprecated, use inspect.signature() or inspect.getfullargspec()\n",
      "  if d.decorator_argspec is not None), _inspect.getargspec(target))\n",
      "/usr/local/anaconda/5.0.1-Python3.6-gcc5/envs/tensorflow-1.4-py3.6/lib/python3.6/site-packages/tensorflow/python/keras/_impl/keras/backend.py:4046: ResourceWarning: unclosed file <_io.TextIOWrapper name='/home/osal10/.keras/keras.json' mode='r' encoding='UTF-8'>\n",
      "  _config = json.load(open(_config_path))\n",
      "/projects/da33/ozeidi/Project/experiments/e104/src/experiment.py:53: ResourceWarning: unclosed file <_io.TextIOWrapper name='conf/apps.json' mode='r' encoding='UTF-8'>\n",
      "  appliances = json.load(open('conf/apps.json'))\n",
      "/usr/local/anaconda/5.0.1-Python3.6-gcc5/envs/tensorflow-1.4-py3.6/lib/python3.6/site-packages/tensorflow/python/util/tf_inspect.py:45: DeprecationWarning: inspect.getargspec() is deprecated, use inspect.signature() or inspect.getfullargspec()\n",
      "  if d.decorator_argspec is not None), _inspect.getargspec(target))\n",
      "/usr/local/anaconda/5.0.1-Python3.6-gcc5/envs/tensorflow-1.4-py3.6/lib/python3.6/site-packages/tensorflow/python/framework/tensor_util.py:509: DeprecationWarning: The binary mode of fromstring is deprecated, as it behaves surprisingly on unicode inputs. Use frombuffer instead\n",
      "  return np.fromstring(tensor.tensor_content, dtype=dtype).reshape(shape)\n"
     ]
    },
    {
     "name": "stdout",
     "output_type": "stream",
     "text": [
      "_________________________________________________________________\n",
      "Layer (type)                 Output Shape              Param #   \n",
      "=================================================================\n",
      "conv1d_1 (Conv1D)            (None, 100, 16)           80        \n",
      "_________________________________________________________________\n",
      "bidirectional_1 (Bidirection (None, None, 128)         31104     \n",
      "_________________________________________________________________\n",
      "dropout_1 (Dropout)          (None, None, 128)         0         \n",
      "_________________________________________________________________\n",
      "bidirectional_2 (Bidirection (None, 256)               197376    \n",
      "_________________________________________________________________\n",
      "dropout_2 (Dropout)          (None, 256)               0         \n",
      "_________________________________________________________________\n",
      "dense_1 (Dense)              (None, 128)               32896     \n",
      "_________________________________________________________________\n",
      "dropout_3 (Dropout)          (None, 128)               0         \n",
      "_________________________________________________________________\n",
      "dense_2 (Dense)              (None, 1)                 129       \n",
      "=================================================================\n",
      "Total params: 261,585\n",
      "Trainable params: 261,585\n",
      "Non-trainable params: 0\n",
      "_________________________________________________________________\n",
      "None\n"
     ]
    },
    {
     "name": "stderr",
     "output_type": "stream",
     "text": [
      "/home/osal10/.local/lib/python3.6/site-packages/nilmtk/utils.py:426: UserWarning: Found duplicate index. Keeping first value\n",
      "  warnings.warn(\"Found duplicate index. Keeping first value\")\n"
     ]
    },
    {
     "name": "stdout",
     "output_type": "stream",
     "text": [
      "(3557400,)\n",
      "(394599,)\n",
      "(656751,)\n",
      "(911163,)\n",
      "OMAR SHAPES: [(3557301, 100), (394499, 100), (656651, 100), (911063, 100)]\n",
      "Omar X_batch:(5519514, 100, 1), Y_batch:(5519514,)\n",
      "Max Main value 8281.1\n",
      "Omar, Total Size of g= 5519514, spe = 86\n",
      "Epoch 1/5\n",
      "85/86 [============================>.] - ETA: 0s - loss: 0.0769Epoch 00000: saving model to output/conv_rnn_model/kettle/CHECKPOINT-kettle-0epochs.h5\n",
      "86/86 [==============================] - 46s - loss: 0.0762    \n",
      "Epoch 2/5\n",
      "85/86 [============================>.] - ETA: 0s - loss: 0.0421Epoch 00001: saving model to output/conv_rnn_model/kettle/CHECKPOINT-kettle-1epochs.h5\n",
      "86/86 [==============================] - 44s - loss: 0.0423    \n",
      "Epoch 3/5\n",
      "85/86 [============================>.] - ETA: 0s - loss: 0.0376Epoch 00002: saving model to output/conv_rnn_model/kettle/CHECKPOINT-kettle-2epochs.h5\n",
      "86/86 [==============================] - 44s - loss: 0.0377    \n",
      "Epoch 4/5\n",
      "85/86 [============================>.] - ETA: 0s - loss: 0.0317Epoch 00003: saving model to output/conv_rnn_model/kettle/CHECKPOINT-kettle-3epochs.h5\n",
      "86/86 [==============================] - 44s - loss: 0.0314    \n",
      "Epoch 5/5\n",
      "85/86 [============================>.] - ETA: 0s - loss: 0.0303Epoch 00004: saving model to output/conv_rnn_model/kettle/CHECKPOINT-kettle-4epochs.h5\n",
      "86/86 [==============================] - 44s - loss: 0.0300    \n",
      "output/conv_rnn_model/kettle/kettle_loss.png\n"
     ]
    },
    {
     "name": "stderr",
     "output_type": "stream",
     "text": [
      "/home/osal10/.local/lib/python3.6/site-packages/matplotlib/legend.py:652: UserWarning: Automatic legend placement (loc=\"best\") not implemented for figure legend. Falling back on \"upper right\".\n",
      "  warnings.warn('Automatic legend placement (loc=\"best\") not '\n"
     ]
    },
    {
     "name": "stdout",
     "output_type": "stream",
     "text": [
      "output/conv_rnn_model/kettle/kettle_disag-out_5epochs.h5\n"
     ]
    },
    {
     "name": "stderr",
     "output_type": "stream",
     "text": [
      "/home/osal10/.local/lib/python3.6/site-packages/pandas/core/frame.py:6211: FutureWarning: Sorting because non-concatenation axis is not aligned. A future version\n",
      "of pandas will change to not sort by default.\n",
      "\n",
      "To accept the future behavior, pass 'sort=False'.\n",
      "\n",
      "To retain the current behavior and silence the warning, pass 'sort=True'.\n",
      "\n",
      "  sort=sort)\n"
     ]
    },
    {
     "name": "stdout",
     "output_type": "stream",
     "text": [
      "New sensible chunk: 1084581\n",
      "1084482/1084482 [==============================] - 838s   \n",
      "New sensible chunk: 1095\n",
      "996/996 [==============================] - 0s     \n",
      "New sensible chunk: 338377\n",
      "338278/338278 [==============================] - 260s   \n",
      "Omar Disagregate complete for kettle\n"
     ]
    },
    {
     "name": "stderr",
     "output_type": "stream",
     "text": [
      "/home/osal10/.local/lib/python3.6/site-packages/nilmtk/datastore/hdfdatastore.py:128: UserWarning: Pandas doesn't allow columns to be created via a new attribute name - see https://pandas.pydata.org/pandas-docs/stable/indexing.html#attribute-access\n",
      "  stop=look_ahead_end_i)\n"
     ]
    },
    {
     "name": "stdout",
     "output_type": "stream",
     "text": [
      "                  Recall  Precision   Accuracy         F1      RETE      MAE\n",
      "washing_machine      NaN        NaN        NaN        NaN       NaN      NaN\n",
      "fridge               NaN        NaN        NaN        NaN       NaN      NaN\n",
      "kettle           0.98143  0.0500481  0.0704553  0.0952395  0.322806  44.8349\n",
      "dish_washer          NaN        NaN        NaN        NaN       NaN      NaN\n",
      "microwave            NaN        NaN        NaN        NaN       NaN      NaN\n"
     ]
    }
   ],
   "source": [
    "!cd \"/projects/da33/ozeidi/Project/experiments/e104\"\n",
    "%run src/experiment.py  kettle conv_rnn_model 0 5"
   ]
  },
  {
   "cell_type": "code",
   "execution_count": 1,
   "metadata": {
    "collapsed": false,
    "scrolled": true
   },
   "outputs": [
    {
     "ename": "ModuleNotFoundError",
     "evalue": "No module named 'nilmtk'",
     "output_type": "error",
     "traceback": [
      "\u001b[0;31m---------------------------------------------------------------------------\u001b[0m",
      "\u001b[0;31mModuleNotFoundError\u001b[0m                       Traceback (most recent call last)",
      "\u001b[0;32mC:\\Users\\ozeidi\\Desktop\\MDS\\00. Project\\01. Coding\\e104\\src\\experiment.py\u001b[0m in \u001b[0;36m<module>\u001b[0;34m()\u001b[0m\n\u001b[1;32m     14\u001b[0m \u001b[1;33m\u001b[0m\u001b[0m\n\u001b[1;32m     15\u001b[0m \u001b[1;32mimport\u001b[0m \u001b[0mtime\u001b[0m\u001b[1;33m\u001b[0m\u001b[0m\n\u001b[0;32m---> 16\u001b[0;31m \u001b[1;32mimport\u001b[0m \u001b[0mmetrics\u001b[0m\u001b[1;33m\u001b[0m\u001b[0m\n\u001b[0m\u001b[1;32m     17\u001b[0m \u001b[1;31m#from summary_stat import dataset_summary, apps_summary, apps_power_hist\u001b[0m\u001b[1;33m\u001b[0m\u001b[1;33m\u001b[0m\u001b[0m\n\u001b[1;32m     18\u001b[0m \u001b[1;33m\u001b[0m\u001b[0m\n",
      "\u001b[0;32mC:\\Users\\ozeidi\\Desktop\\MDS\\00. Project\\01. Coding\\e104\\src\\metrics.py\u001b[0m in \u001b[0;36m<module>\u001b[0;34m()\u001b[0m\n\u001b[0;32m----> 1\u001b[0;31m \u001b[1;32mfrom\u001b[0m \u001b[0mnilmtk\u001b[0m\u001b[1;33m.\u001b[0m\u001b[0melectric\u001b[0m \u001b[1;32mimport\u001b[0m \u001b[0malign_two_meters\u001b[0m\u001b[1;33m\u001b[0m\u001b[0m\n\u001b[0m\u001b[1;32m      2\u001b[0m \u001b[1;32mimport\u001b[0m \u001b[0mnumpy\u001b[0m \u001b[1;32mas\u001b[0m \u001b[0mnp\u001b[0m\u001b[1;33m\u001b[0m\u001b[0m\n\u001b[1;32m      3\u001b[0m \u001b[1;33m\u001b[0m\u001b[0m\n\u001b[1;32m      4\u001b[0m \u001b[1;32mdef\u001b[0m \u001b[0mtp_tn_fp_fn\u001b[0m\u001b[1;33m(\u001b[0m\u001b[0mstates_pred\u001b[0m\u001b[1;33m,\u001b[0m \u001b[0mstates_ground\u001b[0m\u001b[1;33m)\u001b[0m\u001b[1;33m:\u001b[0m\u001b[1;33m\u001b[0m\u001b[0m\n\u001b[1;32m      5\u001b[0m     \u001b[0mtp\u001b[0m \u001b[1;33m=\u001b[0m \u001b[0mnp\u001b[0m\u001b[1;33m.\u001b[0m\u001b[0msum\u001b[0m\u001b[1;33m(\u001b[0m\u001b[0mnp\u001b[0m\u001b[1;33m.\u001b[0m\u001b[0mlogical_and\u001b[0m\u001b[1;33m(\u001b[0m\u001b[0mstates_pred\u001b[0m \u001b[1;33m==\u001b[0m \u001b[1;36m1\u001b[0m\u001b[1;33m,\u001b[0m \u001b[0mstates_ground\u001b[0m \u001b[1;33m==\u001b[0m \u001b[1;36m1\u001b[0m\u001b[1;33m)\u001b[0m\u001b[1;33m)\u001b[0m\u001b[1;33m\u001b[0m\u001b[0m\n",
      "\u001b[0;31mModuleNotFoundError\u001b[0m: No module named 'nilmtk'"
     ]
    }
   ],
   "source": [
    "%run src/experiment.py  washing_machine CONV_RNN 0 3\n"
   ]
  },
  {
   "cell_type": "code",
   "execution_count": 1,
   "metadata": {
    "collapsed": false
   },
   "outputs": [
    {
     "name": "stderr",
     "output_type": "stream",
     "text": [
      "/usr/local/anaconda/5.0.1-Python3.6-gcc5/envs/tensorflow-1.4-py3.6/lib/python3.6/importlib/_bootstrap.py:219: RuntimeWarning: numpy.dtype size changed, may indicate binary incompatibility. Expected 96, got 88\n",
      "  return f(*args, **kwds)\n",
      "/usr/local/anaconda/5.0.1-Python3.6-gcc5/envs/tensorflow-1.4-py3.6/lib/python3.6/site-packages/tensorflow/python/framework/ops.py:766: DeprecationWarning: builtin type EagerTensor has no __module__ attribute\n",
      "  EagerTensor = c_api.TFE_Py_InitEagerTensor(_EagerTensorBase)\n",
      "/usr/local/anaconda/5.0.1-Python3.6-gcc5/envs/tensorflow-1.4-py3.6/lib/python3.6/site-packages/tensorflow/python/util/tf_inspect.py:45: DeprecationWarning: inspect.getargspec() is deprecated, use inspect.signature() or inspect.getfullargspec()\n",
      "  if d.decorator_argspec is not None), _inspect.getargspec(target))\n",
      "/usr/local/anaconda/5.0.1-Python3.6-gcc5/envs/tensorflow-1.4-py3.6/lib/python3.6/site-packages/tensorflow/python/keras/_impl/keras/backend.py:4046: ResourceWarning: unclosed file <_io.TextIOWrapper name='/home/osal10/.keras/keras.json' mode='r' encoding='UTF-8'>\n",
      "  _config = json.load(open(_config_path))\n",
      "/projects/da33/ozeidi/Project/experiments/e104/src/experiment.py:53: ResourceWarning: unclosed file <_io.TextIOWrapper name='conf/apps.json' mode='r' encoding='UTF-8'>\n",
      "  appliances = json.load(open('conf/apps.json'))\n",
      "/usr/local/anaconda/5.0.1-Python3.6-gcc5/envs/tensorflow-1.4-py3.6/lib/python3.6/site-packages/tensorflow/python/util/tf_inspect.py:45: DeprecationWarning: inspect.getargspec() is deprecated, use inspect.signature() or inspect.getfullargspec()\n",
      "  if d.decorator_argspec is not None), _inspect.getargspec(target))\n",
      "/usr/local/anaconda/5.0.1-Python3.6-gcc5/envs/tensorflow-1.4-py3.6/lib/python3.6/site-packages/tensorflow/python/framework/tensor_util.py:509: DeprecationWarning: The binary mode of fromstring is deprecated, as it behaves surprisingly on unicode inputs. Use frombuffer instead\n",
      "  return np.fromstring(tensor.tensor_content, dtype=dtype).reshape(shape)\n"
     ]
    },
    {
     "ename": "IndexError",
     "evalue": "list index out of range",
     "output_type": "error",
     "traceback": [
      "\u001b[0;31m---------------------------------------------------------------------------\u001b[0m",
      "\u001b[0;31mIndexError\u001b[0m                                Traceback (most recent call last)",
      "\u001b[0;32m/projects/da33/ozeidi/Project/experiments/e104/src/experiment.py\u001b[0m in \u001b[0;36m<module>\u001b[0;34m()\u001b[0m\n\u001b[1;32m    242\u001b[0m     \u001b[0margs\u001b[0m \u001b[0;34m=\u001b[0m \u001b[0mparser\u001b[0m\u001b[0;34m.\u001b[0m\u001b[0mparse_args\u001b[0m\u001b[0;34m(\u001b[0m\u001b[0;34m)\u001b[0m\u001b[0;34m\u001b[0m\u001b[0m\n\u001b[1;32m    243\u001b[0m     \u001b[0;32mif\u001b[0m \u001b[0margs\u001b[0m\u001b[0;34m.\u001b[0m\u001b[0mapp\u001b[0m \u001b[0;32min\u001b[0m \u001b[0mappliances\u001b[0m\u001b[0;34m.\u001b[0m\u001b[0mkeys\u001b[0m\u001b[0;34m(\u001b[0m\u001b[0;34m)\u001b[0m\u001b[0;34m:\u001b[0m\u001b[0;34m\u001b[0m\u001b[0m\n\u001b[0;32m--> 244\u001b[0;31m         \u001b[0mExperiment\u001b[0m\u001b[0;34m(\u001b[0m\u001b[0margs\u001b[0m\u001b[0;34m.\u001b[0m\u001b[0mapp\u001b[0m\u001b[0;34m,\u001b[0m\u001b[0margs\u001b[0m\u001b[0;34m.\u001b[0m\u001b[0mmodel\u001b[0m\u001b[0;34m,\u001b[0m \u001b[0margs\u001b[0m\u001b[0;34m.\u001b[0m\u001b[0mstart_e\u001b[0m\u001b[0;34m,\u001b[0m \u001b[0margs\u001b[0m\u001b[0;34m.\u001b[0m\u001b[0mend_e\u001b[0m\u001b[0;34m)\u001b[0m\u001b[0;34m\u001b[0m\u001b[0m\n\u001b[0m",
      "\u001b[0;32m/projects/da33/ozeidi/Project/experiments/e104/src/experiment.py\u001b[0m in \u001b[0;36mExperiment\u001b[0;34m(app, model_name, start_e, end_e)\u001b[0m\n\u001b[1;32m    134\u001b[0m     \u001b[0mmodule\u001b[0m \u001b[0;34m=\u001b[0m \u001b[0mimportlib\u001b[0m\u001b[0;34m.\u001b[0m\u001b[0mimport_module\u001b[0m\u001b[0;34m(\u001b[0m\u001b[0mmodel_name\u001b[0m\u001b[0;34m)\u001b[0m\u001b[0;34m\u001b[0m\u001b[0m\n\u001b[1;32m    135\u001b[0m     \u001b[0mclass_\u001b[0m \u001b[0;34m=\u001b[0m \u001b[0mgetattr\u001b[0m\u001b[0;34m(\u001b[0m\u001b[0mmodule\u001b[0m\u001b[0;34m,\u001b[0m \u001b[0mmodel_name\u001b[0m\u001b[0;34m)\u001b[0m\u001b[0;34m\u001b[0m\u001b[0m\n\u001b[0;32m--> 136\u001b[0;31m     \u001b[0mnilm_model\u001b[0m \u001b[0;34m=\u001b[0m \u001b[0mclass_\u001b[0m\u001b[0;34m(\u001b[0m\u001b[0mappliance\u001b[0m \u001b[0;34m=\u001b[0m \u001b[0mk\u001b[0m \u001b[0;34m,\u001b[0m\u001b[0mMODEL_NAME\u001b[0m \u001b[0;34m=\u001b[0m \u001b[0mmodel_name\u001b[0m\u001b[0;34m,\u001b[0m \u001b[0mmeta\u001b[0m\u001b[0;34m=\u001b[0m\u001b[0mv\u001b[0m\u001b[0;34m)\u001b[0m\u001b[0;34m\u001b[0m\u001b[0m\n\u001b[0m\u001b[1;32m    137\u001b[0m \u001b[0;34m\u001b[0m\u001b[0m\n\u001b[1;32m    138\u001b[0m     \u001b[0;31m# Preparing paths\u001b[0m\u001b[0;34m\u001b[0m\u001b[0;34m\u001b[0m\u001b[0m\n",
      "\u001b[0;32m/projects/da33/ozeidi/Project/experiments/e104/src/HAR.py\u001b[0m in \u001b[0;36m__init__\u001b[0;34m(self, appliance, MODEL_NAME, meta)\u001b[0m\n\u001b[1;32m     55\u001b[0m         \u001b[0mself\u001b[0m\u001b[0;34m.\u001b[0m\u001b[0msave_path\u001b[0m \u001b[0;34m=\u001b[0m \u001b[0;34m'output/{}/{}/'\u001b[0m\u001b[0;34m.\u001b[0m\u001b[0mformat\u001b[0m\u001b[0;34m(\u001b[0m\u001b[0mself\u001b[0m\u001b[0;34m.\u001b[0m\u001b[0mMODEL_NAME\u001b[0m\u001b[0;34m,\u001b[0m\u001b[0mappliance\u001b[0m\u001b[0;34m)\u001b[0m\u001b[0;34m\u001b[0m\u001b[0m\n\u001b[1;32m     56\u001b[0m         \u001b[0mself\u001b[0m\u001b[0;34m.\u001b[0m\u001b[0mloss\u001b[0m \u001b[0;34m=\u001b[0m \u001b[0;34m''\u001b[0m\u001b[0;34m\u001b[0m\u001b[0m\n\u001b[0;32m---> 57\u001b[0;31m         \u001b[0mself\u001b[0m\u001b[0;34m.\u001b[0m\u001b[0mmodel\u001b[0m \u001b[0;34m=\u001b[0m \u001b[0mself\u001b[0m\u001b[0;34m.\u001b[0m\u001b[0m_create_model\u001b[0m\u001b[0;34m(\u001b[0m\u001b[0;34m)\u001b[0m\u001b[0;34m\u001b[0m\u001b[0m\n\u001b[0m\u001b[1;32m     58\u001b[0m         \u001b[0mself\u001b[0m\u001b[0;34m.\u001b[0m\u001b[0msize\u001b[0m\u001b[0;34m=\u001b[0m\u001b[0;36m0\u001b[0m\u001b[0;34m\u001b[0m\u001b[0m\n\u001b[1;32m     59\u001b[0m \u001b[0;34m\u001b[0m\u001b[0m\n",
      "\u001b[0;32m/projects/da33/ozeidi/Project/experiments/e104/src/HAR.py\u001b[0m in \u001b[0;36m_create_model\u001b[0;34m(self)\u001b[0m\n\u001b[1;32m    378\u001b[0m         \u001b[0;31m# define model\u001b[0m\u001b[0;34m\u001b[0m\u001b[0;34m\u001b[0m\u001b[0m\n\u001b[1;32m    379\u001b[0m         \u001b[0mmodel\u001b[0m \u001b[0;34m=\u001b[0m \u001b[0mSequential\u001b[0m\u001b[0;34m(\u001b[0m\u001b[0;34m)\u001b[0m\u001b[0;34m\u001b[0m\u001b[0m\n\u001b[0;32m--> 380\u001b[0;31m         \u001b[0mmodel\u001b[0m\u001b[0;34m.\u001b[0m\u001b[0madd\u001b[0m\u001b[0;34m(\u001b[0m\u001b[0mTimeDistributed\u001b[0m\u001b[0;34m(\u001b[0m\u001b[0mConv1D\u001b[0m\u001b[0;34m(\u001b[0m\u001b[0mfilters\u001b[0m\u001b[0;34m=\u001b[0m\u001b[0;36m64\u001b[0m\u001b[0;34m,\u001b[0m \u001b[0mkernel_size\u001b[0m\u001b[0;34m=\u001b[0m\u001b[0;36m3\u001b[0m\u001b[0;34m,\u001b[0m \u001b[0mactivation\u001b[0m\u001b[0;34m=\u001b[0m\u001b[0;34m'relu'\u001b[0m\u001b[0;34m)\u001b[0m\u001b[0;34m,\u001b[0m \u001b[0minput_shape\u001b[0m\u001b[0;34m=\u001b[0m\u001b[0;34m(\u001b[0m\u001b[0;32mNone\u001b[0m\u001b[0;34m,\u001b[0m\u001b[0mself\u001b[0m\u001b[0;34m.\u001b[0m\u001b[0mwindow_size\u001b[0m\u001b[0;34m)\u001b[0m\u001b[0;34m)\u001b[0m\u001b[0;34m)\u001b[0m\u001b[0;34m\u001b[0m\u001b[0m\n\u001b[0m\u001b[1;32m    381\u001b[0m         \u001b[0mmodel\u001b[0m\u001b[0;34m.\u001b[0m\u001b[0madd\u001b[0m\u001b[0;34m(\u001b[0m\u001b[0mTimeDistributed\u001b[0m\u001b[0;34m(\u001b[0m\u001b[0mConv1D\u001b[0m\u001b[0;34m(\u001b[0m\u001b[0mfilters\u001b[0m\u001b[0;34m=\u001b[0m\u001b[0;36m64\u001b[0m\u001b[0;34m,\u001b[0m \u001b[0mkernel_size\u001b[0m\u001b[0;34m=\u001b[0m\u001b[0;36m3\u001b[0m\u001b[0;34m,\u001b[0m \u001b[0mactivation\u001b[0m\u001b[0;34m=\u001b[0m\u001b[0;34m'relu'\u001b[0m\u001b[0;34m)\u001b[0m\u001b[0;34m)\u001b[0m\u001b[0;34m)\u001b[0m\u001b[0;34m\u001b[0m\u001b[0m\n\u001b[1;32m    382\u001b[0m         \u001b[0mmodel\u001b[0m\u001b[0;34m.\u001b[0m\u001b[0madd\u001b[0m\u001b[0;34m(\u001b[0m\u001b[0mTimeDistributed\u001b[0m\u001b[0;34m(\u001b[0m\u001b[0mDropout\u001b[0m\u001b[0;34m(\u001b[0m\u001b[0;36m0.5\u001b[0m\u001b[0;34m)\u001b[0m\u001b[0;34m)\u001b[0m\u001b[0;34m)\u001b[0m\u001b[0;34m\u001b[0m\u001b[0m\n",
      "\u001b[0;32m/usr/local/anaconda/5.0.1-Python3.6-gcc5/envs/tensorflow-1.4-py3.6/lib/python3.6/site-packages/tensorflow/python/keras/_impl/keras/models.py\u001b[0m in \u001b[0;36madd\u001b[0;34m(self, layer)\u001b[0m\n\u001b[1;32m    471\u001b[0m         \u001b[0;31m# and create the node connecting the current layer\u001b[0m\u001b[0;34m\u001b[0m\u001b[0;34m\u001b[0m\u001b[0m\n\u001b[1;32m    472\u001b[0m         \u001b[0;31m# to the input layer we just created.\u001b[0m\u001b[0;34m\u001b[0m\u001b[0;34m\u001b[0m\u001b[0m\n\u001b[0;32m--> 473\u001b[0;31m         \u001b[0mlayer\u001b[0m\u001b[0;34m(\u001b[0m\u001b[0mx\u001b[0m\u001b[0;34m)\u001b[0m\u001b[0;34m\u001b[0m\u001b[0m\n\u001b[0m\u001b[1;32m    474\u001b[0m \u001b[0;34m\u001b[0m\u001b[0m\n\u001b[1;32m    475\u001b[0m       \u001b[0;32mif\u001b[0m \u001b[0mlen\u001b[0m\u001b[0;34m(\u001b[0m\u001b[0mlayer\u001b[0m\u001b[0;34m.\u001b[0m\u001b[0m_inbound_nodes\u001b[0m\u001b[0;34m)\u001b[0m \u001b[0;34m!=\u001b[0m \u001b[0;36m1\u001b[0m\u001b[0;34m:\u001b[0m\u001b[0;34m\u001b[0m\u001b[0m\n",
      "\u001b[0;32m/usr/local/anaconda/5.0.1-Python3.6-gcc5/envs/tensorflow-1.4-py3.6/lib/python3.6/site-packages/tensorflow/python/keras/_impl/keras/engine/topology.py\u001b[0m in \u001b[0;36m__call__\u001b[0;34m(self, inputs, **kwargs)\u001b[0m\n\u001b[1;32m    250\u001b[0m     \"\"\"\n\u001b[1;32m    251\u001b[0m     \u001b[0;31m# Actually call the layer (optionally building it).\u001b[0m\u001b[0;34m\u001b[0m\u001b[0;34m\u001b[0m\u001b[0m\n\u001b[0;32m--> 252\u001b[0;31m     \u001b[0moutput\u001b[0m \u001b[0;34m=\u001b[0m \u001b[0msuper\u001b[0m\u001b[0;34m(\u001b[0m\u001b[0mLayer\u001b[0m\u001b[0;34m,\u001b[0m \u001b[0mself\u001b[0m\u001b[0;34m)\u001b[0m\u001b[0;34m.\u001b[0m\u001b[0m__call__\u001b[0m\u001b[0;34m(\u001b[0m\u001b[0minputs\u001b[0m\u001b[0;34m,\u001b[0m \u001b[0;34m**\u001b[0m\u001b[0mkwargs\u001b[0m\u001b[0;34m)\u001b[0m\u001b[0;34m\u001b[0m\u001b[0m\n\u001b[0m\u001b[1;32m    253\u001b[0m \u001b[0;34m\u001b[0m\u001b[0m\n\u001b[1;32m    254\u001b[0m     \u001b[0;31m# Update learning phase info.\u001b[0m\u001b[0;34m\u001b[0m\u001b[0;34m\u001b[0m\u001b[0m\n",
      "\u001b[0;32m/usr/local/anaconda/5.0.1-Python3.6-gcc5/envs/tensorflow-1.4-py3.6/lib/python3.6/site-packages/tensorflow/python/layers/base.py\u001b[0m in \u001b[0;36m__call__\u001b[0;34m(self, inputs, *args, **kwargs)\u001b[0m\n\u001b[1;32m    557\u001b[0m           \u001b[0minput_shapes\u001b[0m \u001b[0;34m=\u001b[0m \u001b[0;34m[\u001b[0m\u001b[0mx\u001b[0m\u001b[0;34m.\u001b[0m\u001b[0mget_shape\u001b[0m\u001b[0;34m(\u001b[0m\u001b[0;34m)\u001b[0m \u001b[0;32mfor\u001b[0m \u001b[0mx\u001b[0m \u001b[0;32min\u001b[0m \u001b[0minput_list\u001b[0m\u001b[0;34m]\u001b[0m\u001b[0;34m\u001b[0m\u001b[0m\n\u001b[1;32m    558\u001b[0m           \u001b[0;32mif\u001b[0m \u001b[0mlen\u001b[0m\u001b[0;34m(\u001b[0m\u001b[0minput_shapes\u001b[0m\u001b[0;34m)\u001b[0m \u001b[0;34m==\u001b[0m \u001b[0;36m1\u001b[0m\u001b[0;34m:\u001b[0m\u001b[0;34m\u001b[0m\u001b[0m\n\u001b[0;32m--> 559\u001b[0;31m             \u001b[0mself\u001b[0m\u001b[0;34m.\u001b[0m\u001b[0mbuild\u001b[0m\u001b[0;34m(\u001b[0m\u001b[0minput_shapes\u001b[0m\u001b[0;34m[\u001b[0m\u001b[0;36m0\u001b[0m\u001b[0;34m]\u001b[0m\u001b[0;34m)\u001b[0m\u001b[0;34m\u001b[0m\u001b[0m\n\u001b[0m\u001b[1;32m    560\u001b[0m           \u001b[0;32melse\u001b[0m\u001b[0;34m:\u001b[0m\u001b[0;34m\u001b[0m\u001b[0m\n\u001b[1;32m    561\u001b[0m             \u001b[0mself\u001b[0m\u001b[0;34m.\u001b[0m\u001b[0mbuild\u001b[0m\u001b[0;34m(\u001b[0m\u001b[0minput_shapes\u001b[0m\u001b[0;34m)\u001b[0m\u001b[0;34m\u001b[0m\u001b[0m\n",
      "\u001b[0;32m/usr/local/anaconda/5.0.1-Python3.6-gcc5/envs/tensorflow-1.4-py3.6/lib/python3.6/site-packages/tensorflow/python/keras/_impl/keras/layers/wrappers.py\u001b[0m in \u001b[0;36mbuild\u001b[0;34m(self, input_shape)\u001b[0m\n\u001b[1;32m    181\u001b[0m     \u001b[0mchild_input_shape\u001b[0m \u001b[0;34m=\u001b[0m \u001b[0;34m[\u001b[0m\u001b[0minput_shape\u001b[0m\u001b[0;34m[\u001b[0m\u001b[0;36m0\u001b[0m\u001b[0;34m]\u001b[0m\u001b[0;34m]\u001b[0m \u001b[0;34m+\u001b[0m \u001b[0minput_shape\u001b[0m\u001b[0;34m[\u001b[0m\u001b[0;36m2\u001b[0m\u001b[0;34m:\u001b[0m\u001b[0;34m]\u001b[0m\u001b[0;34m\u001b[0m\u001b[0m\n\u001b[1;32m    182\u001b[0m     \u001b[0;32mif\u001b[0m \u001b[0;32mnot\u001b[0m \u001b[0mself\u001b[0m\u001b[0;34m.\u001b[0m\u001b[0mlayer\u001b[0m\u001b[0;34m.\u001b[0m\u001b[0mbuilt\u001b[0m\u001b[0;34m:\u001b[0m\u001b[0;34m\u001b[0m\u001b[0m\n\u001b[0;32m--> 183\u001b[0;31m       \u001b[0mself\u001b[0m\u001b[0;34m.\u001b[0m\u001b[0mlayer\u001b[0m\u001b[0;34m.\u001b[0m\u001b[0mbuild\u001b[0m\u001b[0;34m(\u001b[0m\u001b[0mchild_input_shape\u001b[0m\u001b[0;34m)\u001b[0m\u001b[0;34m\u001b[0m\u001b[0m\n\u001b[0m\u001b[1;32m    184\u001b[0m       \u001b[0mself\u001b[0m\u001b[0;34m.\u001b[0m\u001b[0mlayer\u001b[0m\u001b[0;34m.\u001b[0m\u001b[0mbuilt\u001b[0m \u001b[0;34m=\u001b[0m \u001b[0;32mTrue\u001b[0m\u001b[0;34m\u001b[0m\u001b[0m\n\u001b[1;32m    185\u001b[0m     \u001b[0msuper\u001b[0m\u001b[0;34m(\u001b[0m\u001b[0mTimeDistributed\u001b[0m\u001b[0;34m,\u001b[0m \u001b[0mself\u001b[0m\u001b[0;34m)\u001b[0m\u001b[0;34m.\u001b[0m\u001b[0mbuild\u001b[0m\u001b[0;34m(\u001b[0m\u001b[0;34m)\u001b[0m\u001b[0;34m\u001b[0m\u001b[0m\n",
      "\u001b[0;32m/usr/local/anaconda/5.0.1-Python3.6-gcc5/envs/tensorflow-1.4-py3.6/lib/python3.6/site-packages/tensorflow/python/layers/convolutional.py\u001b[0m in \u001b[0;36mbuild\u001b[0;34m(self, input_shape)\u001b[0m\n\u001b[1;32m    161\u001b[0m         \u001b[0mpadding\u001b[0m\u001b[0;34m=\u001b[0m\u001b[0mself\u001b[0m\u001b[0;34m.\u001b[0m\u001b[0mpadding\u001b[0m\u001b[0;34m.\u001b[0m\u001b[0mupper\u001b[0m\u001b[0;34m(\u001b[0m\u001b[0;34m)\u001b[0m\u001b[0;34m,\u001b[0m\u001b[0;34m\u001b[0m\u001b[0m\n\u001b[1;32m    162\u001b[0m         data_format=utils.convert_data_format(self.data_format,\n\u001b[0;32m--> 163\u001b[0;31m                                               self.rank + 2))\n\u001b[0m\u001b[1;32m    164\u001b[0m     \u001b[0mself\u001b[0m\u001b[0;34m.\u001b[0m\u001b[0mbuilt\u001b[0m \u001b[0;34m=\u001b[0m \u001b[0;32mTrue\u001b[0m\u001b[0;34m\u001b[0m\u001b[0m\n\u001b[1;32m    165\u001b[0m \u001b[0;34m\u001b[0m\u001b[0m\n",
      "\u001b[0;32m/usr/local/anaconda/5.0.1-Python3.6-gcc5/envs/tensorflow-1.4-py3.6/lib/python3.6/site-packages/tensorflow/python/ops/nn_ops.py\u001b[0m in \u001b[0;36m__init__\u001b[0;34m(self, input_shape, filter_shape, padding, strides, dilation_rate, name, data_format)\u001b[0m\n\u001b[1;32m    794\u001b[0m \u001b[0;34m\u001b[0m\u001b[0m\n\u001b[1;32m    795\u001b[0m     \u001b[0;32mif\u001b[0m \u001b[0mdata_format\u001b[0m \u001b[0;32mis\u001b[0m \u001b[0;32mNone\u001b[0m \u001b[0;32mor\u001b[0m \u001b[0;32mnot\u001b[0m \u001b[0mdata_format\u001b[0m\u001b[0;34m.\u001b[0m\u001b[0mstartswith\u001b[0m\u001b[0;34m(\u001b[0m\u001b[0;34m\"NC\"\u001b[0m\u001b[0;34m)\u001b[0m\u001b[0;34m:\u001b[0m\u001b[0;34m\u001b[0m\u001b[0m\n\u001b[0;32m--> 796\u001b[0;31m       \u001b[0minput_channels_dim\u001b[0m \u001b[0;34m=\u001b[0m \u001b[0minput_shape\u001b[0m\u001b[0;34m[\u001b[0m\u001b[0mnum_spatial_dims\u001b[0m \u001b[0;34m+\u001b[0m \u001b[0;36m1\u001b[0m\u001b[0;34m]\u001b[0m\u001b[0;34m\u001b[0m\u001b[0m\n\u001b[0m\u001b[1;32m    797\u001b[0m       \u001b[0mspatial_dims\u001b[0m \u001b[0;34m=\u001b[0m \u001b[0mrange\u001b[0m\u001b[0;34m(\u001b[0m\u001b[0;36m1\u001b[0m\u001b[0;34m,\u001b[0m \u001b[0mnum_spatial_dims\u001b[0m\u001b[0;34m+\u001b[0m\u001b[0;36m1\u001b[0m\u001b[0;34m)\u001b[0m\u001b[0;34m\u001b[0m\u001b[0m\n\u001b[1;32m    798\u001b[0m     \u001b[0;32melse\u001b[0m\u001b[0;34m:\u001b[0m\u001b[0;34m\u001b[0m\u001b[0m\n",
      "\u001b[0;32m/usr/local/anaconda/5.0.1-Python3.6-gcc5/envs/tensorflow-1.4-py3.6/lib/python3.6/site-packages/tensorflow/python/framework/tensor_shape.py\u001b[0m in \u001b[0;36m__getitem__\u001b[0;34m(self, key)\u001b[0m\n\u001b[1;32m    519\u001b[0m         \u001b[0;32mreturn\u001b[0m \u001b[0mTensorShape\u001b[0m\u001b[0;34m(\u001b[0m\u001b[0mself\u001b[0m\u001b[0;34m.\u001b[0m\u001b[0m_dims\u001b[0m\u001b[0;34m[\u001b[0m\u001b[0mkey\u001b[0m\u001b[0;34m]\u001b[0m\u001b[0;34m)\u001b[0m\u001b[0;34m\u001b[0m\u001b[0m\n\u001b[1;32m    520\u001b[0m       \u001b[0;32melse\u001b[0m\u001b[0;34m:\u001b[0m\u001b[0;34m\u001b[0m\u001b[0m\n\u001b[0;32m--> 521\u001b[0;31m         \u001b[0;32mreturn\u001b[0m \u001b[0mself\u001b[0m\u001b[0;34m.\u001b[0m\u001b[0m_dims\u001b[0m\u001b[0;34m[\u001b[0m\u001b[0mkey\u001b[0m\u001b[0;34m]\u001b[0m\u001b[0;34m\u001b[0m\u001b[0m\n\u001b[0m\u001b[1;32m    522\u001b[0m     \u001b[0;32melse\u001b[0m\u001b[0;34m:\u001b[0m\u001b[0;34m\u001b[0m\u001b[0m\n\u001b[1;32m    523\u001b[0m       \u001b[0;32mif\u001b[0m \u001b[0misinstance\u001b[0m\u001b[0;34m(\u001b[0m\u001b[0mkey\u001b[0m\u001b[0;34m,\u001b[0m \u001b[0mslice\u001b[0m\u001b[0;34m)\u001b[0m\u001b[0;34m:\u001b[0m\u001b[0;34m\u001b[0m\u001b[0m\n",
      "\u001b[0;31mIndexError\u001b[0m: list index out of range"
     ]
    }
   ],
   "source": [
    "%run src/experiment.py  washing_machine HAR 0 3\n"
   ]
  },
  {
   "cell_type": "code",
   "execution_count": 7,
   "metadata": {
    "collapsed": false
   },
   "outputs": [
    {
     "ename": "TypeError",
     "evalue": "'>' not supported between instances of 'NoneType' and 'int'",
     "output_type": "error",
     "traceback": [
      "\u001b[0;31m---------------------------------------------------------------------------\u001b[0m",
      "\u001b[0;31mTypeError\u001b[0m                                 Traceback (most recent call last)",
      "\u001b[0;32m<ipython-input-7-f8d93eb96c35>\u001b[0m in \u001b[0;36m<module>\u001b[0;34m()\u001b[0m\n\u001b[0;32m----> 1\u001b[0;31m \u001b[0mmax\u001b[0m\u001b[0;34m(\u001b[0m\u001b[0;34m[\u001b[0m\u001b[0;36m1\u001b[0m\u001b[0;34m,\u001b[0m\u001b[0;36m1\u001b[0m\u001b[0;34m,\u001b[0m\u001b[0;36m2\u001b[0m\u001b[0;34m,\u001b[0m\u001b[0;36m4\u001b[0m\u001b[0;34m,\u001b[0m\u001b[0;32mNone\u001b[0m\u001b[0;34m]\u001b[0m\u001b[0;34m)\u001b[0m\u001b[0;34m\u001b[0m\u001b[0m\n\u001b[0m",
      "\u001b[0;31mTypeError\u001b[0m: '>' not supported between instances of 'NoneType' and 'int'"
     ]
    }
   ],
   "source": [
    "max([1,1,2,4,None])"
   ]
  },
  {
   "cell_type": "code",
   "execution_count": null,
   "metadata": {
    "collapsed": true
   },
   "outputs": [],
   "source": []
  }
 ],
 "metadata": {
  "kernelspec": {
   "display_name": "Python (nilmtk)",
   "language": "python",
   "name": "nilmtk-env"
  },
  "language_info": {
   "codemirror_mode": {
    "name": "ipython",
    "version": 3
   },
   "file_extension": ".py",
   "mimetype": "text/x-python",
   "name": "python",
   "nbconvert_exporter": "python",
   "pygments_lexer": "ipython3",
   "version": "3.6.4"
  }
 },
 "nbformat": 4,
 "nbformat_minor": 2
}
