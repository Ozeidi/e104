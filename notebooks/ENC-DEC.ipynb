{
 "cells": [
  {
   "cell_type": "code",
   "execution_count": 3,
   "metadata": {},
   "outputs": [
    {
     "name": "stderr",
     "output_type": "stream",
     "text": [
      "/usr/local/anaconda/5.0.1-Python3.6-gcc5/envs/tensorflow-1.4-py3.6/lib/python3.6/importlib/_bootstrap.py:219: RuntimeWarning: numpy.dtype size changed, may indicate binary incompatibility. Expected 96, got 88\n",
      "  return f(*args, **kwds)\n",
      "/usr/local/anaconda/5.0.1-Python3.6-gcc5/envs/tensorflow-1.4-py3.6/lib/python3.6/importlib/_bootstrap.py:219: RuntimeWarning: numpy.dtype size changed, may indicate binary incompatibility. Expected 96, got 88\n",
      "  return f(*args, **kwds)\n"
     ]
    }
   ],
   "source": [
    "import json\n",
    "import itertools\n",
    "from sklearn import preprocessing\n",
    "from sklearn.externals import joblib\n",
    "import numpy as np\n",
    "import pandas as pd\n",
    "from datetime import datetime as dt\n",
    "#Visualisation\n",
    "#import matplotlib\n",
    "import matplotlib.pyplot as plt\n",
    "#%matplotlib inline\n",
    "%matplotlib notebook\n",
    "# from pylab import rcParams\n",
    "# from matplotlib import gridspec\n",
    "# import seaborn as sns\n",
    "# from ggplot import *\n",
    "# import plotly.plotly as py\n",
    "# #Formatted Print \n",
    "# from IPython.display import Markdown, display\n",
    "\n",
    "#NILMTK\n",
    "from nilmtk import DataSet\n",
    "from nilmtk.utils import print_dict\n",
    "from nilmtk.datastore import HDFDataStore\n",
    "from nilmtk.electric import align_two_meters\n",
    "\n",
    "\n",
    "\n",
    "allowed_key_names = ['fridge','microwave','dish_washer','kettle','washing_machine']\n",
    "WINDOW_PER_BUILDING = {\n",
    "    1: (\"2013-04-12\", \"2014-12-15\"),\n",
    "    2: (\"2013-05-22\", \"2013-10-03 06:16:00\"),\n",
    "    3: (\"2013-02-27\", \"2013-03-27 06:15:05\"),\n",
    "    4: (\"2013-03-09\", \"2013-04-24 06:15:14\"),\n",
    "    5: (\"2014-06-29\", \"2014-09-01\")\n",
    "}"
   ]
  },
  {
   "cell_type": "code",
   "execution_count": 21,
   "metadata": {},
   "outputs": [],
   "source": []
  },
  {
   "cell_type": "code",
   "execution_count": 23,
   "metadata": {},
   "outputs": [
    {
     "name": "stderr",
     "output_type": "stream",
     "text": [
      "/usr/local/anaconda/5.0.1-Python3.6-gcc5/envs/tensorflow-1.4-py3.6/lib/python3.6/site-packages/tensorflow/python/framework/ops.py:766: DeprecationWarning: builtin type EagerTensor has no __module__ attribute\n",
      "  EagerTensor = c_api.TFE_Py_InitEagerTensor(_EagerTensorBase)\n",
      "/usr/local/anaconda/5.0.1-Python3.6-gcc5/envs/tensorflow-1.4-py3.6/lib/python3.6/site-packages/tensorflow/python/util/tf_inspect.py:45: DeprecationWarning: inspect.getargspec() is deprecated, use inspect.signature() or inspect.getfullargspec()\n",
      "  if d.decorator_argspec is not None), _inspect.getargspec(target))\n",
      "/usr/local/anaconda/5.0.1-Python3.6-gcc5/envs/tensorflow-1.4-py3.6/lib/python3.6/site-packages/tensorflow/python/keras/_impl/keras/backend.py:4046: ResourceWarning: unclosed file <_io.TextIOWrapper name='/home/osal10/.keras/keras.json' mode='r' encoding='UTF-8'>\n",
      "  _config = json.load(open(_config_path))\n",
      "/usr/local/anaconda/5.0.1-Python3.6-gcc5/envs/tensorflow-1.4-py3.6/lib/python3.6/site-packages/tensorflow/python/util/tf_inspect.py:45: DeprecationWarning: inspect.getargspec() is deprecated, use inspect.signature() or inspect.getfullargspec()\n",
      "  if d.decorator_argspec is not None), _inspect.getargspec(target))\n",
      "/usr/local/anaconda/5.0.1-Python3.6-gcc5/envs/tensorflow-1.4-py3.6/lib/python3.6/site-packages/tensorflow/python/framework/tensor_util.py:509: DeprecationWarning: The binary mode of fromstring is deprecated, as it behaves surprisingly on unicode inputs. Use frombuffer instead\n",
      "  return np.fromstring(tensor.tensor_content, dtype=dtype).reshape(shape)\n"
     ]
    }
   ],
   "source": [
    "\n",
    "from  tensorflow.python.keras.models import Model\n",
    "from  tensorflow.python.keras.layers import Input, LSTM, Dense\n",
    "from  tensorflow.python.keras.optimizers import Adam\n",
    "\n",
    "latent_dim = 50 # LSTM hidden units\n",
    "dropout = .20 \n",
    "\n",
    "# Define an input series and encode it with an LSTM. \n",
    "encoder_inputs = Input(shape=(None, 1)) \n",
    "encoder = LSTM(latent_dim, dropout=dropout, return_state=True)\n",
    "encoder_outputs, state_h, state_c = encoder(encoder_inputs)\n",
    "\n",
    "# We discard `encoder_outputs` and only keep the final states. These represent the \"context\"\n",
    "# vector that we use as the basis for decoding.\n",
    "encoder_states = [state_h, state_c]\n",
    "\n",
    "# Set up the decoder, using `encoder_states` as initial state.\n",
    "# This is where teacher forcing inputs are fed in.\n",
    "decoder_inputs = Input(shape=(None, 1)) \n",
    "\n",
    "# We set up our decoder using `encoder_states` as initial state.  \n",
    "# We return full output sequences and return internal states as well. \n",
    "# We don't use the return states in the training model, but we will use them in inference.\n",
    "decoder_lstm = LSTM(latent_dim, dropout=dropout, return_sequences=True, return_state=True)\n",
    "decoder_outputs, _, _ = decoder_lstm(decoder_inputs,\n",
    "                                     initial_state=encoder_states)\n",
    "\n",
    "decoder_dense = Dense(1) # 1 continuous output at each timestep\n",
    "decoder_outputs = decoder_dense(decoder_outputs)\n",
    "\n",
    "# Define the model that will turn\n",
    "# `encoder_input_data` & `decoder_input_data` into `decoder_target_data`\n",
    "model = Model([encoder_inputs, decoder_inputs], decoder_outputs)"
   ]
  },
  {
   "cell_type": "code",
   "execution_count": 24,
   "metadata": {
    "scrolled": true
   },
   "outputs": [
    {
     "name": "stdout",
     "output_type": "stream",
     "text": [
      "____________________________________________________________________________________________________\n",
      "Layer (type)                     Output Shape          Param #     Connected to                     \n",
      "====================================================================================================\n",
      "input_1 (InputLayer)             (None, None, 1)       0                                            \n",
      "____________________________________________________________________________________________________\n",
      "input_2 (InputLayer)             (None, None, 1)       0                                            \n",
      "____________________________________________________________________________________________________\n",
      "lstm_1 (LSTM)                    [(None, 50), (None, 5 10400       input_1[0][0]                    \n",
      "____________________________________________________________________________________________________\n",
      "lstm_2 (LSTM)                    [(None, None, 50), (N 10400       input_2[0][0]                    \n",
      "                                                                   lstm_1[0][1]                     \n",
      "                                                                   lstm_1[0][2]                     \n",
      "____________________________________________________________________________________________________\n",
      "dense_1 (Dense)                  (None, None, 1)       51          lstm_2[0][0]                     \n",
      "====================================================================================================\n",
      "Total params: 20,851\n",
      "Trainable params: 20,851\n",
      "Non-trainable params: 0\n",
      "____________________________________________________________________________________________________\n"
     ]
    }
   ],
   "source": [
    "model.summary()"
   ]
  },
  {
   "cell_type": "code",
   "execution_count": 70,
   "metadata": {},
   "outputs": [],
   "source": [
    "def get_data (key_name, start_date, end_date):\n",
    "\n",
    "    \n",
    "    sp =6\n",
    "    # =======  Open configuration file  ===============\n",
    "    appliances = json.load(open(\"../conf/apps.json\",'r'))\n",
    "    \n",
    "    nilmtk_key= appliances[key_name]['key']\n",
    "    \n",
    "    v = appliances[key_name]\n",
    "    data_path='/projects/da33/ozeidi/Project/data/UKDALE/ukdale.h5'\n",
    "    #training_set = DataSet(data_path)\n",
    "    validation_set = DataSet(data_path)\n",
    "\n",
    "    #disag_filename =  '{}/{}_disag-out_{}epochs.h5'.format(save_path,nilmtk_key,end_e) # The filename of the resulting datastore\n",
    "    #output = DataSet(disag_filename)\n",
    "\n",
    "    val_builidng = v['validation_buildings'][0]\n",
    "\n",
    "\n",
    "    validation_set.set_window(start=start_date,end=end_date)\n",
    "    # This makes a list of references to the NILMTK main meters and submeter\n",
    "    # no data is generated from them at this point\n",
    "    mainchunk = validation_set.buildings[val_builidng].elec.mains().power_series_all_data(sample_period=sp)\n",
    "    meterchunk = validation_set.buildings[val_builidng].elec.submeters()[nilmtk_key].power_series_all_data(sample_period=sp)\n",
    "\n",
    "    mainchunk.fillna(0, inplace=True)\n",
    "    meterchunk.fillna(0, inplace=True)\n",
    "    ix = mainchunk.index.intersection(meterchunk.index)\n",
    "    mainchunk = np.array(mainchunk[ix])\n",
    "    meterchunk = np.array(meterchunk[ix])\n",
    "\n",
    "    mainchunk = np.reshape(mainchunk, (mainchunk.shape[0],1,1))\n",
    "    meterchunk = np.reshape(meterchunk, (meterchunk.shape[0],1,1))\n",
    "    return mainchunk, meterchunk\n"
   ]
  },
  {
   "cell_type": "code",
   "execution_count": 71,
   "metadata": {},
   "outputs": [],
   "source": [
    "def transform_series_encode(input_data):\n",
    "    mean = np.mean(input_data)\n",
    "    sd = np.std(input_data)\n",
    "    input_data = (input_data -mean)/sd\n",
    "    return input_data, mean,sd\n",
    "\n",
    "\n",
    "def transform_series_decode(input_data, mean,sd):\n",
    "    input_data = (input_data -mean)/sd\n",
    "    return input_data"
   ]
  },
  {
   "cell_type": "code",
   "execution_count": 72,
   "metadata": {
    "scrolled": true
   },
   "outputs": [
    {
     "name": "stderr",
     "output_type": "stream",
     "text": [
      "/home/osal10/.local/lib/python3.6/site-packages/ipykernel_launcher.py:6: ResourceWarning: unclosed file <_io.TextIOWrapper name='../conf/apps.json' mode='r' encoding='UTF-8'>\n",
      "  \n"
     ]
    }
   ],
   "source": [
    "ma,me = get_data('kettle',\"2013-05-22\", \"2013-09-03 06:16:00\")\n"
   ]
  },
  {
   "cell_type": "code",
   "execution_count": null,
   "metadata": {},
   "outputs": [],
   "source": [
    "np.nan_to_num()"
   ]
  },
  {
   "cell_type": "code",
   "execution_count": 48,
   "metadata": {},
   "outputs": [
    {
     "data": {
      "text/plain": [
       "2048"
      ]
     },
     "execution_count": 48,
     "metadata": {},
     "output_type": "execute_result"
    }
   ],
   "source": [
    "2**11"
   ]
  },
  {
   "cell_type": "code",
   "execution_count": 63,
   "metadata": {},
   "outputs": [
    {
     "name": "stderr",
     "output_type": "stream",
     "text": [
      "/usr/local/anaconda/5.0.1-Python3.6-gcc5/envs/tensorflow-1.4-py3.6/lib/python3.6/site-packages/tensorflow/python/util/tf_inspect.py:45: DeprecationWarning: inspect.getargspec() is deprecated, use inspect.signature() or inspect.getfullargspec()\n",
      "  if d.decorator_argspec is not None), _inspect.getargspec(target))\n",
      "/usr/local/anaconda/5.0.1-Python3.6-gcc5/envs/tensorflow-1.4-py3.6/lib/python3.6/site-packages/tensorflow/python/framework/tensor_util.py:509: DeprecationWarning: The binary mode of fromstring is deprecated, as it behaves surprisingly on unicode inputs. Use frombuffer instead\n",
      "  return np.fromstring(tensor.tensor_content, dtype=dtype).reshape(shape)\n"
     ]
    }
   ],
   "source": [
    "\n",
    "first_n_samples = 20000\n",
    "batch_size = 2**11\n",
    "epochs = 100\n",
    "\n",
    "# sample of series from train_enc_start to train_enc_end  \n",
    "encoder_input_data = ma[:first_n_samples]\n",
    "encoder_input_data, encode_series_mean,encode_series_sd = transform_series_encode(encoder_input_data)\n",
    "\n",
    "# sample of series from train_pred_start to train_pred_end \n",
    "decoder_target_data = me[:first_n_samples]\n",
    "decoder_target_data = transform_series_decode(decoder_target_data, encode_series_mean, encode_series_sd)\n",
    "\n",
    "# lagged target series for teacher forcing\n",
    "decoder_input_data = np.zeros(decoder_target_data.shape)\n",
    "decoder_input_data[:,1:,0] = decoder_target_data[:,:-1,0]\n",
    "decoder_input_data[:,0,0] = encoder_input_data[:,-1,0]\n",
    "\n",
    "model.compile(optimizer='Adam', loss='mse')\n"
   ]
  },
  {
   "cell_type": "code",
   "execution_count": 64,
   "metadata": {
    "scrolled": true
   },
   "outputs": [
    {
     "name": "stderr",
     "output_type": "stream",
     "text": [
      "/usr/local/anaconda/5.0.1-Python3.6-gcc5/envs/tensorflow-1.4-py3.6/lib/python3.6/site-packages/tensorflow/python/framework/tensor_util.py:509: DeprecationWarning: The binary mode of fromstring is deprecated, as it behaves surprisingly on unicode inputs. Use frombuffer instead\n",
      "  return np.fromstring(tensor.tensor_content, dtype=dtype).reshape(shape)\n",
      "/usr/local/anaconda/5.0.1-Python3.6-gcc5/envs/tensorflow-1.4-py3.6/lib/python3.6/site-packages/tensorflow/python/util/tf_inspect.py:45: DeprecationWarning: inspect.getargspec() is deprecated, use inspect.signature() or inspect.getfullargspec()\n",
      "  if d.decorator_argspec is not None), _inspect.getargspec(target))\n"
     ]
    },
    {
     "name": "stdout",
     "output_type": "stream",
     "text": [
      "Train on 16000 samples, validate on 4000 samples\n",
      "Epoch 1/100\n",
      "16000/16000 [==============================] - 1s - loss: 0.1075 - val_loss: 0.0026\n",
      "Epoch 2/100\n",
      "16000/16000 [==============================] - 0s - loss: 0.0706 - val_loss: 0.0026\n",
      "Epoch 3/100\n",
      "16000/16000 [==============================] - 0s - loss: 0.0622 - val_loss: 0.0019\n",
      "Epoch 4/100\n",
      "16000/16000 [==============================] - 0s - loss: 0.0618 - val_loss: 1.4208e-04\n",
      "Epoch 5/100\n",
      "16000/16000 [==============================] - 0s - loss: 0.0536 - val_loss: 1.5110e-04\n",
      "Epoch 6/100\n",
      "16000/16000 [==============================] - 0s - loss: 0.0495 - val_loss: 8.3032e-05\n",
      "Epoch 7/100\n",
      "16000/16000 [==============================] - 0s - loss: 0.0484 - val_loss: 1.4701e-04\n",
      "Epoch 8/100\n",
      "16000/16000 [==============================] - 0s - loss: 0.0526 - val_loss: 5.1864e-04\n",
      "Epoch 9/100\n",
      "16000/16000 [==============================] - 0s - loss: 0.0464 - val_loss: 3.7928e-05\n",
      "Epoch 10/100\n",
      "16000/16000 [==============================] - 0s - loss: 0.0547 - val_loss: 1.7835e-04\n",
      "Epoch 11/100\n",
      "16000/16000 [==============================] - 0s - loss: 0.0484 - val_loss: 6.3589e-05\n",
      "Epoch 12/100\n",
      "16000/16000 [==============================] - 0s - loss: 0.0489 - val_loss: 2.0066e-04\n",
      "Epoch 13/100\n",
      "16000/16000 [==============================] - 0s - loss: 0.0514 - val_loss: 1.7362e-05\n",
      "Epoch 14/100\n",
      "16000/16000 [==============================] - 0s - loss: 0.0495 - val_loss: 4.3202e-04\n",
      "Epoch 15/100\n",
      "16000/16000 [==============================] - 0s - loss: 0.0499 - val_loss: 1.4373e-04\n",
      "Epoch 16/100\n",
      "16000/16000 [==============================] - 0s - loss: 0.0466 - val_loss: 2.3324e-05\n",
      "Epoch 17/100\n",
      "16000/16000 [==============================] - 0s - loss: 0.0512 - val_loss: 3.6670e-05\n",
      "Epoch 18/100\n",
      "16000/16000 [==============================] - 0s - loss: 0.0468 - val_loss: 1.3246e-04\n",
      "Epoch 19/100\n",
      "16000/16000 [==============================] - 0s - loss: 0.0479 - val_loss: 2.0169e-04\n",
      "Epoch 20/100\n",
      "16000/16000 [==============================] - 0s - loss: 0.0466 - val_loss: 5.4189e-05\n",
      "Epoch 21/100\n",
      "16000/16000 [==============================] - 0s - loss: 0.0529 - val_loss: 1.3704e-04\n",
      "Epoch 22/100\n",
      "16000/16000 [==============================] - 0s - loss: 0.0458 - val_loss: 2.9142e-05\n",
      "Epoch 23/100\n",
      "16000/16000 [==============================] - 0s - loss: 0.0426 - val_loss: 2.0227e-05\n",
      "Epoch 24/100\n",
      "16000/16000 [==============================] - 0s - loss: 0.0500 - val_loss: 2.0087e-04\n",
      "Epoch 25/100\n",
      "16000/16000 [==============================] - 0s - loss: 0.0489 - val_loss: 3.2508e-04\n",
      "Epoch 26/100\n",
      "16000/16000 [==============================] - 0s - loss: 0.0455 - val_loss: 0.0013\n",
      "Epoch 27/100\n",
      "16000/16000 [==============================] - 0s - loss: 0.0494 - val_loss: 1.3591e-04\n",
      "Epoch 28/100\n",
      "16000/16000 [==============================] - 0s - loss: 0.0450 - val_loss: 3.0545e-04\n",
      "Epoch 29/100\n",
      "16000/16000 [==============================] - 0s - loss: 0.0474 - val_loss: 0.0016\n",
      "Epoch 30/100\n",
      "16000/16000 [==============================] - 0s - loss: 0.0474 - val_loss: 4.6581e-04\n",
      "Epoch 31/100\n",
      "16000/16000 [==============================] - 0s - loss: 0.0502 - val_loss: 2.6458e-04\n",
      "Epoch 32/100\n",
      "16000/16000 [==============================] - 0s - loss: 0.0491 - val_loss: 3.4884e-04\n",
      "Epoch 33/100\n",
      "16000/16000 [==============================] - 0s - loss: 0.0481 - val_loss: 4.6325e-04\n",
      "Epoch 34/100\n",
      "16000/16000 [==============================] - 0s - loss: 0.0523 - val_loss: 5.4257e-04\n",
      "Epoch 35/100\n",
      "16000/16000 [==============================] - 0s - loss: 0.0472 - val_loss: 2.1023e-04\n",
      "Epoch 36/100\n",
      "16000/16000 [==============================] - 0s - loss: 0.0454 - val_loss: 1.8591e-04\n",
      "Epoch 37/100\n",
      "16000/16000 [==============================] - 0s - loss: 0.0509 - val_loss: 3.0810e-04\n",
      "Epoch 38/100\n",
      "16000/16000 [==============================] - 0s - loss: 0.0456 - val_loss: 6.5346e-04\n",
      "Epoch 39/100\n",
      "16000/16000 [==============================] - 0s - loss: 0.0504 - val_loss: 2.5559e-04\n",
      "Epoch 40/100\n",
      "16000/16000 [==============================] - 0s - loss: 0.0484 - val_loss: 4.1042e-04\n",
      "Epoch 41/100\n",
      "16000/16000 [==============================] - 0s - loss: 0.0476 - val_loss: 6.8791e-04\n",
      "Epoch 42/100\n",
      "16000/16000 [==============================] - 0s - loss: 0.0462 - val_loss: 1.3581e-04\n",
      "Epoch 43/100\n",
      "16000/16000 [==============================] - 0s - loss: 0.0472 - val_loss: 1.2463e-04\n",
      "Epoch 44/100\n",
      "16000/16000 [==============================] - 0s - loss: 0.0480 - val_loss: 8.1109e-05\n",
      "Epoch 45/100\n",
      "16000/16000 [==============================] - 0s - loss: 0.0457 - val_loss: 5.0116e-05\n",
      "Epoch 46/100\n",
      "16000/16000 [==============================] - 0s - loss: 0.0533 - val_loss: 3.5562e-05\n",
      "Epoch 47/100\n",
      "16000/16000 [==============================] - 0s - loss: 0.0494 - val_loss: 1.2728e-04\n",
      "Epoch 48/100\n",
      "16000/16000 [==============================] - 0s - loss: 0.0484 - val_loss: 1.9517e-04\n",
      "Epoch 49/100\n",
      "16000/16000 [==============================] - 0s - loss: 0.0474 - val_loss: 1.1154e-04\n",
      "Epoch 50/100\n",
      "16000/16000 [==============================] - 0s - loss: 0.0496 - val_loss: 1.7352e-04\n",
      "Epoch 51/100\n",
      "16000/16000 [==============================] - 0s - loss: 0.0457 - val_loss: 3.6768e-05\n",
      "Epoch 52/100\n",
      "16000/16000 [==============================] - 0s - loss: 0.0509 - val_loss: 5.0870e-05\n",
      "Epoch 53/100\n",
      "16000/16000 [==============================] - 0s - loss: 0.0500 - val_loss: 4.4194e-04\n",
      "Epoch 54/100\n",
      "16000/16000 [==============================] - 0s - loss: 0.0514 - val_loss: 2.0385e-04\n",
      "Epoch 55/100\n",
      "16000/16000 [==============================] - 0s - loss: 0.0491 - val_loss: 1.4609e-04\n",
      "Epoch 56/100\n",
      "16000/16000 [==============================] - 0s - loss: 0.0480 - val_loss: 9.5227e-04\n",
      "Epoch 57/100\n",
      "16000/16000 [==============================] - 0s - loss: 0.0451 - val_loss: 1.5063e-04\n",
      "Epoch 58/100\n",
      "16000/16000 [==============================] - 0s - loss: 0.0495 - val_loss: 5.9652e-04\n",
      "Epoch 59/100\n",
      "16000/16000 [==============================] - 0s - loss: 0.0442 - val_loss: 4.9688e-04\n",
      "Epoch 60/100\n",
      "16000/16000 [==============================] - 0s - loss: 0.0499 - val_loss: 3.4134e-05\n",
      "Epoch 61/100\n",
      "16000/16000 [==============================] - 0s - loss: 0.0555 - val_loss: 1.0598e-04\n",
      "Epoch 62/100\n",
      "16000/16000 [==============================] - 0s - loss: 0.0501 - val_loss: 4.4548e-04\n",
      "Epoch 63/100\n",
      "16000/16000 [==============================] - 0s - loss: 0.0511 - val_loss: 4.1713e-04\n",
      "Epoch 64/100\n",
      "16000/16000 [==============================] - 0s - loss: 0.0486 - val_loss: 6.1192e-04\n",
      "Epoch 65/100\n",
      "16000/16000 [==============================] - 0s - loss: 0.0492 - val_loss: 4.9389e-05\n",
      "Epoch 66/100\n",
      "16000/16000 [==============================] - 0s - loss: 0.0527 - val_loss: 5.9358e-05\n",
      "Epoch 67/100\n",
      "16000/16000 [==============================] - 0s - loss: 0.0472 - val_loss: 1.8825e-04\n",
      "Epoch 68/100\n",
      "16000/16000 [==============================] - 0s - loss: 0.0512 - val_loss: 7.4176e-05\n",
      "Epoch 69/100\n",
      "16000/16000 [==============================] - 0s - loss: 0.0511 - val_loss: 4.7519e-04\n",
      "Epoch 70/100\n",
      "16000/16000 [==============================] - 0s - loss: 0.0472 - val_loss: 5.2798e-04\n",
      "Epoch 71/100\n",
      "16000/16000 [==============================] - 0s - loss: 0.0483 - val_loss: 6.7394e-05\n",
      "Epoch 72/100\n",
      "16000/16000 [==============================] - 0s - loss: 0.0440 - val_loss: 0.0014\n",
      "Epoch 73/100\n",
      "16000/16000 [==============================] - 0s - loss: 0.0483 - val_loss: 4.5370e-05\n",
      "Epoch 74/100\n",
      "16000/16000 [==============================] - 0s - loss: 0.0527 - val_loss: 7.8510e-05\n",
      "Epoch 75/100\n",
      "16000/16000 [==============================] - 0s - loss: 0.0478 - val_loss: 3.4388e-04\n",
      "Epoch 76/100\n",
      "16000/16000 [==============================] - 0s - loss: 0.0454 - val_loss: 0.0012\n",
      "Epoch 77/100\n",
      "16000/16000 [==============================] - 0s - loss: 0.0479 - val_loss: 1.5750e-04\n",
      "Epoch 78/100\n",
      "16000/16000 [==============================] - 0s - loss: 0.0461 - val_loss: 9.0212e-05\n",
      "Epoch 79/100\n",
      "16000/16000 [==============================] - 0s - loss: 0.0474 - val_loss: 4.2729e-04\n",
      "Epoch 80/100\n",
      "16000/16000 [==============================] - 0s - loss: 0.0463 - val_loss: 4.0189e-05\n",
      "Epoch 81/100\n",
      "16000/16000 [==============================] - 0s - loss: 0.0448 - val_loss: 3.7032e-05\n",
      "Epoch 82/100\n"
     ]
    },
    {
     "name": "stdout",
     "output_type": "stream",
     "text": [
      "16000/16000 [==============================] - 0s - loss: 0.0436 - val_loss: 4.2080e-05\n",
      "Epoch 83/100\n",
      "16000/16000 [==============================] - 0s - loss: 0.0441 - val_loss: 5.0772e-05\n",
      "Epoch 84/100\n",
      "16000/16000 [==============================] - 0s - loss: 0.0457 - val_loss: 8.6136e-05\n",
      "Epoch 85/100\n",
      "16000/16000 [==============================] - 0s - loss: 0.0464 - val_loss: 8.0923e-05\n",
      "Epoch 86/100\n",
      "16000/16000 [==============================] - 0s - loss: 0.0452 - val_loss: 4.6664e-05\n",
      "Epoch 87/100\n",
      "16000/16000 [==============================] - 0s - loss: 0.0446 - val_loss: 8.2183e-04\n",
      "Epoch 88/100\n",
      "16000/16000 [==============================] - 0s - loss: 0.0485 - val_loss: 2.3717e-04\n",
      "Epoch 89/100\n",
      "16000/16000 [==============================] - 0s - loss: 0.0459 - val_loss: 7.8191e-05\n",
      "Epoch 90/100\n",
      "16000/16000 [==============================] - 0s - loss: 0.0461 - val_loss: 5.5182e-05\n",
      "Epoch 91/100\n",
      "16000/16000 [==============================] - 0s - loss: 0.0430 - val_loss: 2.4551e-04\n",
      "Epoch 92/100\n",
      "16000/16000 [==============================] - 0s - loss: 0.0466 - val_loss: 2.5819e-04\n",
      "Epoch 93/100\n",
      "16000/16000 [==============================] - 0s - loss: 0.0477 - val_loss: 5.6910e-04\n",
      "Epoch 94/100\n",
      "16000/16000 [==============================] - 0s - loss: 0.0507 - val_loss: 4.7461e-05\n",
      "Epoch 95/100\n",
      "16000/16000 [==============================] - 0s - loss: 0.0458 - val_loss: 6.1944e-05\n",
      "Epoch 96/100\n",
      "16000/16000 [==============================] - 0s - loss: 0.0495 - val_loss: 8.7379e-04\n",
      "Epoch 97/100\n",
      "16000/16000 [==============================] - 0s - loss: 0.0488 - val_loss: 2.3395e-04\n",
      "Epoch 98/100\n",
      "16000/16000 [==============================] - 0s - loss: 0.0474 - val_loss: 3.7103e-04\n",
      "Epoch 99/100\n",
      "16000/16000 [==============================] - 0s - loss: 0.0459 - val_loss: 1.9943e-04\n",
      "Epoch 100/100\n",
      "16000/16000 [==============================] - 0s - loss: 0.0524 - val_loss: 6.0811e-04\n"
     ]
    }
   ],
   "source": [
    "history = model.fit([encoder_input_data, decoder_input_data], decoder_target_data,\n",
    "                     batch_size=batch_size,\n",
    "                     epochs=epochs,\n",
    "                     validation_split=0.2)"
   ]
  },
  {
   "cell_type": "code",
   "execution_count": 65,
   "metadata": {},
   "outputs": [
    {
     "data": {
      "text/plain": [
       "<matplotlib.legend.Legend at 0x7f3c4b8e9ac8>"
      ]
     },
     "execution_count": 65,
     "metadata": {},
     "output_type": "execute_result"
    },
    {
     "data": {
      "image/png": "[encoded data removed]",
      "text/plain": [
       "<Figure size 432x288 with 1 Axes>"
      ]
     },
     "metadata": {},
     "output_type": "display_data"
    }
   ],
   "source": [
    "plt.plot(history.history['loss'])\n",
    "plt.plot(history.history['val_loss'])\n",
    "\n",
    "plt.xlabel('Epoch')\n",
    "plt.ylabel('Mean Absolute Error Loss')\n",
    "plt.title('Loss Over Time')\n",
    "plt.legend(['Train','Valid'])\n"
   ]
  },
  {
   "cell_type": "code",
   "execution_count": 67,
   "metadata": {},
   "outputs": [
    {
     "name": "stderr",
     "output_type": "stream",
     "text": [
      "/usr/local/anaconda/5.0.1-Python3.6-gcc5/envs/tensorflow-1.4-py3.6/lib/python3.6/site-packages/tensorflow/python/util/tf_inspect.py:45: DeprecationWarning: inspect.getargspec() is deprecated, use inspect.signature() or inspect.getfullargspec()\n",
      "  if d.decorator_argspec is not None), _inspect.getargspec(target))\n",
      "/usr/local/anaconda/5.0.1-Python3.6-gcc5/envs/tensorflow-1.4-py3.6/lib/python3.6/site-packages/tensorflow/python/framework/tensor_util.py:509: DeprecationWarning: The binary mode of fromstring is deprecated, as it behaves surprisingly on unicode inputs. Use frombuffer instead\n",
      "  return np.fromstring(tensor.tensor_content, dtype=dtype).reshape(shape)\n"
     ]
    }
   ],
   "source": [
    "# from our previous model - mapping encoder sequence to state vectors\n",
    "encoder_model = Model(encoder_inputs, encoder_states)\n",
    "\n",
    "# A modified version of the decoding stage that takes in predicted target inputs\n",
    "# and encoded state vectors, returning predicted target outputs and decoder state vectors.\n",
    "# We need to hang onto these state vectors to run the next step of the inference loop.\n",
    "decoder_state_input_h = Input(shape=(latent_dim,))\n",
    "decoder_state_input_c = Input(shape=(latent_dim,))\n",
    "decoder_states_inputs = [decoder_state_input_h, decoder_state_input_c]\n",
    "\n",
    "decoder_outputs, state_h, state_c = decoder_lstm(decoder_inputs, initial_state=decoder_states_inputs)\n",
    "decoder_states = [state_h, state_c]\n",
    "\n",
    "decoder_outputs = decoder_dense(decoder_outputs)\n",
    "decoder_model = Model([decoder_inputs] + decoder_states_inputs,\n",
    "                      [decoder_outputs] + decoder_states)\n",
    "\n",
    "def decode_sequence(input_seq):\n",
    "    \n",
    "    # Encode the input as state vectors.\n",
    "    states_value = encoder_model.predict(input_seq)\n",
    "\n",
    "    # Generate empty target sequence of length 1.\n",
    "    target_seq = np.zeros((1, 1, 1))\n",
    "    \n",
    "    # Populate the first target sequence with end of encoding series pageviews\n",
    "    target_seq[0, 0, 0] = input_seq[0, -1, 0]\n",
    "\n",
    "    # Sampling loop for a batch of sequences - we will fill decoded_seq with predictions\n",
    "    # (to simplify, here we assume a batch of size 1).\n",
    "\n",
    "    decoded_seq = np.zeros((1,pred_steps,1))\n",
    "    \n",
    "    for i in range(pred_steps):\n",
    "        \n",
    "        output, h, c = decoder_model.predict([target_seq] + states_value)\n",
    "        \n",
    "        decoded_seq[0,i,0] = output[0,0,0]\n",
    "\n",
    "        # Update the target sequence (of length 1).\n",
    "        target_seq = np.zeros((1, 1, 1))\n",
    "        target_seq[0, 0, 0] = output[0,0,0]\n",
    "\n",
    "        # Update states\n",
    "        states_value = [h, c]\n",
    "\n",
    "    return decoded_seq"
   ]
  },
  {
   "cell_type": "code",
   "execution_count": 73,
   "metadata": {},
   "outputs": [
    {
     "name": "stderr",
     "output_type": "stream",
     "text": [
      "/home/osal10/.local/lib/python3.6/site-packages/ipykernel_launcher.py:6: ResourceWarning: unclosed file <_io.TextIOWrapper name='../conf/apps.json' mode='r' encoding='UTF-8'>\n",
      "  \n"
     ]
    }
   ],
   "source": [
    "ma_test,me_test = get_data('kettle',\"2013-09-04\", \"2013-10-03 06:16:00\")\n",
    "encoder_input_data = ma_test\n",
    "encoder_input_data, encode_series_mean ,encode_series_sd = transform_series_encode(encoder_input_data)\n",
    "\n",
    "decoder_target_data = me_test\n",
    "decoder_target_data = transform_series_decode(decoder_target_data, encode_series_mean,encode_series_sd)"
   ]
  },
  {
   "cell_type": "code",
   "execution_count": 77,
   "metadata": {},
   "outputs": [],
   "source": [
    "def predict_and_plot(encoder_input_data, decoder_target_data, sample_ind, enc_tail_len=50):\n",
    "\n",
    "    encode_series = encoder_input_data[sample_ind:sample_ind+1,:,:] \n",
    "    pred_series = decode_sequence(encode_series)\n",
    "    \n",
    "    encode_series = encode_series.reshape(-1,1)\n",
    "    pred_series = pred_series.reshape(-1,1)   \n",
    "    target_series = decoder_target_data[sample_ind,:,:1].reshape(-1,1) \n",
    "    \n",
    "    encode_series_tail = np.concatenate([encode_series[-enc_tail_len:],target_series[:1]])\n",
    "    x_encode = encode_series_tail.shape[0]\n",
    "    \n",
    "    plt.figure(figsize=(10,6))   \n",
    "    \n",
    "    plt.plot(range(1,x_encode+1),encode_series_tail)\n",
    "    plt.plot(range(x_encode,x_encode+pred_steps),target_series,color='orange')\n",
    "    plt.plot(range(x_encode,x_encode+pred_steps),pred_series,color='teal',linestyle='--')\n",
    "    \n",
    "    plt.title('Encoder Series Tail of Length %d, Target Series, and Predictions' % enc_tail_len)\n",
    "    plt.legend(['Encoding Series','Target Series','Predictions'])"
   ]
  },
  {
   "cell_type": "code",
   "execution_count": 78,
   "metadata": {},
   "outputs": [
    {
     "ename": "InvalidArgumentError",
     "evalue": "You must feed a value for placeholder tensor 'lstm/keras_learning_phase' with dtype bool\n\t [[Node: lstm/keras_learning_phase = Placeholder[dtype=DT_BOOL, shape=<unknown>, _device=\"/job:localhost/replica:0/task:0/device:GPU:0\"]()]]\n\t [[Node: lstm/keras_learning_phase/_1137 = _HostRecv[client_terminated=false, recv_device=\"/job:localhost/replica:0/task:0/device:CPU:0\", send_device=\"/job:localhost/replica:0/task:0/device:GPU:0\", send_device_incarnation=1, tensor_name=\"edge_58_lstm/keras_learning_phase\", tensor_type=DT_BOOL, _device=\"/job:localhost/replica:0/task:0/device:CPU:0\"]()]]\n\nCaused by op 'lstm/keras_learning_phase', defined at:\n  File \"/usr/local/anaconda/5.0.1-Python3.6-gcc5/envs/tensorflow-1.4-py3.6/lib/python3.6/runpy.py\", line 193, in _run_module_as_main\n    \"__main__\", mod_spec)\n  File \"/usr/local/anaconda/5.0.1-Python3.6-gcc5/envs/tensorflow-1.4-py3.6/lib/python3.6/runpy.py\", line 85, in _run_code\n    exec(code, run_globals)\n  File \"/home/osal10/.local/lib/python3.6/site-packages/ipykernel_launcher.py\", line 16, in <module>\n    app.launch_new_instance()\n  File \"/home/osal10/.local/lib/python3.6/site-packages/traitlets/config/application.py\", line 658, in launch_instance\n    app.start()\n  File \"/home/osal10/.local/lib/python3.6/site-packages/ipykernel/kernelapp.py\", line 486, in start\n    self.io_loop.start()\n  File \"/home/osal10/.local/lib/python3.6/site-packages/tornado/platform/asyncio.py\", line 132, in start\n    self.asyncio_loop.run_forever()\n  File \"/usr/local/anaconda/5.0.1-Python3.6-gcc5/envs/tensorflow-1.4-py3.6/lib/python3.6/asyncio/base_events.py\", line 421, in run_forever\n    self._run_once()\n  File \"/usr/local/anaconda/5.0.1-Python3.6-gcc5/envs/tensorflow-1.4-py3.6/lib/python3.6/asyncio/base_events.py\", line 1431, in _run_once\n    handle._run()\n  File \"/usr/local/anaconda/5.0.1-Python3.6-gcc5/envs/tensorflow-1.4-py3.6/lib/python3.6/asyncio/events.py\", line 145, in _run\n    self._callback(*self._args)\n  File \"/home/osal10/.local/lib/python3.6/site-packages/tornado/platform/asyncio.py\", line 122, in _handle_events\n    handler_func(fileobj, events)\n  File \"/home/osal10/.local/lib/python3.6/site-packages/tornado/stack_context.py\", line 300, in null_wrapper\n    return fn(*args, **kwargs)\n  File \"/home/osal10/.local/lib/python3.6/site-packages/zmq/eventloop/zmqstream.py\", line 450, in _handle_events\n    self._handle_recv()\n  File \"/home/osal10/.local/lib/python3.6/site-packages/zmq/eventloop/zmqstream.py\", line 480, in _handle_recv\n    self._run_callback(callback, msg)\n  File \"/home/osal10/.local/lib/python3.6/site-packages/zmq/eventloop/zmqstream.py\", line 432, in _run_callback\n    callback(*args, **kwargs)\n  File \"/home/osal10/.local/lib/python3.6/site-packages/tornado/stack_context.py\", line 300, in null_wrapper\n    return fn(*args, **kwargs)\n  File \"/home/osal10/.local/lib/python3.6/site-packages/ipykernel/kernelbase.py\", line 283, in dispatcher\n    return self.dispatch_shell(stream, msg)\n  File \"/home/osal10/.local/lib/python3.6/site-packages/ipykernel/kernelbase.py\", line 233, in dispatch_shell\n    handler(stream, idents, msg)\n  File \"/home/osal10/.local/lib/python3.6/site-packages/ipykernel/kernelbase.py\", line 399, in execute_request\n    user_expressions, allow_stdin)\n  File \"/home/osal10/.local/lib/python3.6/site-packages/ipykernel/ipkernel.py\", line 208, in do_execute\n    res = shell.run_cell(code, store_history=store_history, silent=silent)\n  File \"/home/osal10/.local/lib/python3.6/site-packages/ipykernel/zmqshell.py\", line 537, in run_cell\n    return super(ZMQInteractiveShell, self).run_cell(*args, **kwargs)\n  File \"/home/osal10/.local/lib/python3.6/site-packages/IPython/core/interactiveshell.py\", line 2662, in run_cell\n    raw_cell, store_history, silent, shell_futures)\n  File \"/home/osal10/.local/lib/python3.6/site-packages/IPython/core/interactiveshell.py\", line 2785, in _run_cell\n    interactivity=interactivity, compiler=compiler, result=result)\n  File \"/home/osal10/.local/lib/python3.6/site-packages/IPython/core/interactiveshell.py\", line 2901, in run_ast_nodes\n    if self.run_code(code, result):\n  File \"/home/osal10/.local/lib/python3.6/site-packages/IPython/core/interactiveshell.py\", line 2961, in run_code\n    exec(code_obj, self.user_global_ns, self.user_ns)\n  File \"<ipython-input-23-b38dbc09c924>\", line 12, in <module>\n    encoder_outputs, state_h, state_c = encoder(encoder_inputs)\n  File \"/usr/local/anaconda/5.0.1-Python3.6-gcc5/envs/tensorflow-1.4-py3.6/lib/python3.6/site-packages/tensorflow/python/keras/_impl/keras/layers/recurrent.py\", line 293, in __call__\n    return super(Recurrent, self).__call__(inputs, **kwargs)\n  File \"/usr/local/anaconda/5.0.1-Python3.6-gcc5/envs/tensorflow-1.4-py3.6/lib/python3.6/site-packages/tensorflow/python/keras/_impl/keras/engine/topology.py\", line 252, in __call__\n    output = super(Layer, self).__call__(inputs, **kwargs)\n  File \"/usr/local/anaconda/5.0.1-Python3.6-gcc5/envs/tensorflow-1.4-py3.6/lib/python3.6/site-packages/tensorflow/python/layers/base.py\", line 575, in __call__\n    outputs = self.call(inputs, *args, **kwargs)\n  File \"/usr/local/anaconda/5.0.1-Python3.6-gcc5/envs/tensorflow-1.4-py3.6/lib/python3.6/site-packages/tensorflow/python/keras/_impl/keras/layers/recurrent.py\", line 363, in call\n    preprocessed_input = self.preprocess_input(inputs, training=None)\n  File \"/usr/local/anaconda/5.0.1-Python3.6-gcc5/envs/tensorflow-1.4-py3.6/lib/python3.6/site-packages/tensorflow/python/keras/_impl/keras/layers/recurrent.py\", line 1129, in preprocess_input\n    training=training)\n  File \"/usr/local/anaconda/5.0.1-Python3.6-gcc5/envs/tensorflow-1.4-py3.6/lib/python3.6/site-packages/tensorflow/python/keras/_impl/keras/layers/recurrent.py\", line 73, in _time_distributed_dense\n    x = K.in_train_phase(x * expanded_dropout_matrix, x, training=training)\n  File \"/usr/local/anaconda/5.0.1-Python3.6-gcc5/envs/tensorflow-1.4-py3.6/lib/python3.6/site-packages/tensorflow/python/keras/_impl/keras/backend.py\", line 2820, in in_train_phase\n    training = learning_phase()\n  File \"/usr/local/anaconda/5.0.1-Python3.6-gcc5/envs/tensorflow-1.4-py3.6/lib/python3.6/site-packages/tensorflow/python/keras/_impl/keras/backend.py\", line 325, in learning_phase\n    phase = array_ops.placeholder(dtype='bool', name='keras_learning_phase')\n  File \"/usr/local/anaconda/5.0.1-Python3.6-gcc5/envs/tensorflow-1.4-py3.6/lib/python3.6/site-packages/tensorflow/python/ops/array_ops.py\", line 1599, in placeholder\n    return gen_array_ops._placeholder(dtype=dtype, shape=shape, name=name)\n  File \"/usr/local/anaconda/5.0.1-Python3.6-gcc5/envs/tensorflow-1.4-py3.6/lib/python3.6/site-packages/tensorflow/python/ops/gen_array_ops.py\", line 3091, in _placeholder\n    \"Placeholder\", dtype=dtype, shape=shape, name=name)\n  File \"/usr/local/anaconda/5.0.1-Python3.6-gcc5/envs/tensorflow-1.4-py3.6/lib/python3.6/site-packages/tensorflow/python/framework/op_def_library.py\", line 787, in _apply_op_helper\n    op_def=op_def)\n  File \"/usr/local/anaconda/5.0.1-Python3.6-gcc5/envs/tensorflow-1.4-py3.6/lib/python3.6/site-packages/tensorflow/python/framework/ops.py\", line 2956, in create_op\n    op_def=op_def)\n  File \"/usr/local/anaconda/5.0.1-Python3.6-gcc5/envs/tensorflow-1.4-py3.6/lib/python3.6/site-packages/tensorflow/python/framework/ops.py\", line 1470, in __init__\n    self._traceback = self._graph._extract_stack()  # pylint: disable=protected-access\n\nInvalidArgumentError (see above for traceback): You must feed a value for placeholder tensor 'lstm/keras_learning_phase' with dtype bool\n\t [[Node: lstm/keras_learning_phase = Placeholder[dtype=DT_BOOL, shape=<unknown>, _device=\"/job:localhost/replica:0/task:0/device:GPU:0\"]()]]\n\t [[Node: lstm/keras_learning_phase/_1137 = _HostRecv[client_terminated=false, recv_device=\"/job:localhost/replica:0/task:0/device:CPU:0\", send_device=\"/job:localhost/replica:0/task:0/device:GPU:0\", send_device_incarnation=1, tensor_name=\"edge_58_lstm/keras_learning_phase\", tensor_type=DT_BOOL, _device=\"/job:localhost/replica:0/task:0/device:CPU:0\"]()]]\n",
     "output_type": "error",
     "traceback": [
      "\u001b[0;31m---------------------------------------------------------------------------\u001b[0m",
      "\u001b[0;31mInvalidArgumentError\u001b[0m                      Traceback (most recent call last)",
      "\u001b[0;32m/usr/local/anaconda/5.0.1-Python3.6-gcc5/envs/tensorflow-1.4-py3.6/lib/python3.6/site-packages/tensorflow/python/client/session.py\u001b[0m in \u001b[0;36m_do_call\u001b[0;34m(self, fn, *args)\u001b[0m\n\u001b[1;32m   1322\u001b[0m     \u001b[0;32mtry\u001b[0m\u001b[0;34m:\u001b[0m\u001b[0;34m\u001b[0m\u001b[0m\n\u001b[0;32m-> 1323\u001b[0;31m       \u001b[0;32mreturn\u001b[0m \u001b[0mfn\u001b[0m\u001b[0;34m(\u001b[0m\u001b[0;34m*\u001b[0m\u001b[0margs\u001b[0m\u001b[0;34m)\u001b[0m\u001b[0;34m\u001b[0m\u001b[0m\n\u001b[0m\u001b[1;32m   1324\u001b[0m     \u001b[0;32mexcept\u001b[0m \u001b[0merrors\u001b[0m\u001b[0;34m.\u001b[0m\u001b[0mOpError\u001b[0m \u001b[0;32mas\u001b[0m \u001b[0me\u001b[0m\u001b[0;34m:\u001b[0m\u001b[0;34m\u001b[0m\u001b[0m\n",
      "\u001b[0;32m/usr/local/anaconda/5.0.1-Python3.6-gcc5/envs/tensorflow-1.4-py3.6/lib/python3.6/site-packages/tensorflow/python/client/session.py\u001b[0m in \u001b[0;36m_run_fn\u001b[0;34m(session, feed_dict, fetch_list, target_list, options, run_metadata)\u001b[0m\n\u001b[1;32m   1301\u001b[0m                                    \u001b[0mfeed_dict\u001b[0m\u001b[0;34m,\u001b[0m \u001b[0mfetch_list\u001b[0m\u001b[0;34m,\u001b[0m \u001b[0mtarget_list\u001b[0m\u001b[0;34m,\u001b[0m\u001b[0;34m\u001b[0m\u001b[0m\n\u001b[0;32m-> 1302\u001b[0;31m                                    status, run_metadata)\n\u001b[0m\u001b[1;32m   1303\u001b[0m \u001b[0;34m\u001b[0m\u001b[0m\n",
      "\u001b[0;32m/usr/local/anaconda/5.0.1-Python3.6-gcc5/envs/tensorflow-1.4-py3.6/lib/python3.6/site-packages/tensorflow/python/framework/errors_impl.py\u001b[0m in \u001b[0;36m__exit__\u001b[0;34m(self, type_arg, value_arg, traceback_arg)\u001b[0m\n\u001b[1;32m    472\u001b[0m             \u001b[0mcompat\u001b[0m\u001b[0;34m.\u001b[0m\u001b[0mas_text\u001b[0m\u001b[0;34m(\u001b[0m\u001b[0mc_api\u001b[0m\u001b[0;34m.\u001b[0m\u001b[0mTF_Message\u001b[0m\u001b[0;34m(\u001b[0m\u001b[0mself\u001b[0m\u001b[0;34m.\u001b[0m\u001b[0mstatus\u001b[0m\u001b[0;34m.\u001b[0m\u001b[0mstatus\u001b[0m\u001b[0;34m)\u001b[0m\u001b[0;34m)\u001b[0m\u001b[0;34m,\u001b[0m\u001b[0;34m\u001b[0m\u001b[0m\n\u001b[0;32m--> 473\u001b[0;31m             c_api.TF_GetCode(self.status.status))\n\u001b[0m\u001b[1;32m    474\u001b[0m     \u001b[0;31m# Delete the underlying status object from memory otherwise it stays alive\u001b[0m\u001b[0;34m\u001b[0m\u001b[0;34m\u001b[0m\u001b[0m\n",
      "\u001b[0;31mInvalidArgumentError\u001b[0m: You must feed a value for placeholder tensor 'lstm/keras_learning_phase' with dtype bool\n\t [[Node: lstm/keras_learning_phase = Placeholder[dtype=DT_BOOL, shape=<unknown>, _device=\"/job:localhost/replica:0/task:0/device:GPU:0\"]()]]\n\t [[Node: lstm/keras_learning_phase/_1137 = _HostRecv[client_terminated=false, recv_device=\"/job:localhost/replica:0/task:0/device:CPU:0\", send_device=\"/job:localhost/replica:0/task:0/device:GPU:0\", send_device_incarnation=1, tensor_name=\"edge_58_lstm/keras_learning_phase\", tensor_type=DT_BOOL, _device=\"/job:localhost/replica:0/task:0/device:CPU:0\"]()]]",
      "\nDuring handling of the above exception, another exception occurred:\n",
      "\u001b[0;31mInvalidArgumentError\u001b[0m                      Traceback (most recent call last)",
      "\u001b[0;32m<ipython-input-78-eb2287667958>\u001b[0m in \u001b[0;36m<module>\u001b[0;34m()\u001b[0m\n\u001b[0;32m----> 1\u001b[0;31m \u001b[0mpredict_and_plot\u001b[0m\u001b[0;34m(\u001b[0m\u001b[0mencoder_input_data\u001b[0m\u001b[0;34m,\u001b[0m \u001b[0mdecoder_target_data\u001b[0m\u001b[0;34m,\u001b[0m \u001b[0;36m100\u001b[0m\u001b[0;34m)\u001b[0m\u001b[0;34m\u001b[0m\u001b[0m\n\u001b[0m",
      "\u001b[0;32m<ipython-input-77-d230ac36beab>\u001b[0m in \u001b[0;36mpredict_and_plot\u001b[0;34m(encoder_input_data, decoder_target_data, sample_ind, enc_tail_len)\u001b[0m\n\u001b[1;32m      2\u001b[0m \u001b[0;34m\u001b[0m\u001b[0m\n\u001b[1;32m      3\u001b[0m     \u001b[0mencode_series\u001b[0m \u001b[0;34m=\u001b[0m \u001b[0mencoder_input_data\u001b[0m\u001b[0;34m[\u001b[0m\u001b[0msample_ind\u001b[0m\u001b[0;34m:\u001b[0m\u001b[0msample_ind\u001b[0m\u001b[0;34m+\u001b[0m\u001b[0;36m1\u001b[0m\u001b[0;34m,\u001b[0m\u001b[0;34m:\u001b[0m\u001b[0;34m,\u001b[0m\u001b[0;34m:\u001b[0m\u001b[0;34m]\u001b[0m\u001b[0;34m\u001b[0m\u001b[0m\n\u001b[0;32m----> 4\u001b[0;31m     \u001b[0mpred_series\u001b[0m \u001b[0;34m=\u001b[0m \u001b[0mdecode_sequence\u001b[0m\u001b[0;34m(\u001b[0m\u001b[0mencode_series\u001b[0m\u001b[0;34m)\u001b[0m\u001b[0;34m\u001b[0m\u001b[0m\n\u001b[0m\u001b[1;32m      5\u001b[0m \u001b[0;34m\u001b[0m\u001b[0m\n\u001b[1;32m      6\u001b[0m     \u001b[0mencode_series\u001b[0m \u001b[0;34m=\u001b[0m \u001b[0mencode_series\u001b[0m\u001b[0;34m.\u001b[0m\u001b[0mreshape\u001b[0m\u001b[0;34m(\u001b[0m\u001b[0;34m-\u001b[0m\u001b[0;36m1\u001b[0m\u001b[0;34m,\u001b[0m\u001b[0;36m1\u001b[0m\u001b[0;34m)\u001b[0m\u001b[0;34m\u001b[0m\u001b[0m\n",
      "\u001b[0;32m<ipython-input-67-c02b1d3c5e1c>\u001b[0m in \u001b[0;36mdecode_sequence\u001b[0;34m(input_seq)\u001b[0m\n\u001b[1;32m     19\u001b[0m \u001b[0;34m\u001b[0m\u001b[0m\n\u001b[1;32m     20\u001b[0m     \u001b[0;31m# Encode the input as state vectors.\u001b[0m\u001b[0;34m\u001b[0m\u001b[0;34m\u001b[0m\u001b[0m\n\u001b[0;32m---> 21\u001b[0;31m     \u001b[0mstates_value\u001b[0m \u001b[0;34m=\u001b[0m \u001b[0mencoder_model\u001b[0m\u001b[0;34m.\u001b[0m\u001b[0mpredict\u001b[0m\u001b[0;34m(\u001b[0m\u001b[0minput_seq\u001b[0m\u001b[0;34m)\u001b[0m\u001b[0;34m\u001b[0m\u001b[0m\n\u001b[0m\u001b[1;32m     22\u001b[0m \u001b[0;34m\u001b[0m\u001b[0m\n\u001b[1;32m     23\u001b[0m     \u001b[0;31m# Generate empty target sequence of length 1.\u001b[0m\u001b[0;34m\u001b[0m\u001b[0;34m\u001b[0m\u001b[0m\n",
      "\u001b[0;32m/usr/local/anaconda/5.0.1-Python3.6-gcc5/envs/tensorflow-1.4-py3.6/lib/python3.6/site-packages/tensorflow/python/keras/_impl/keras/engine/training.py\u001b[0m in \u001b[0;36mpredict\u001b[0;34m(self, x, batch_size, verbose, steps)\u001b[0m\n\u001b[1;32m   1737\u001b[0m     \u001b[0mf\u001b[0m \u001b[0;34m=\u001b[0m \u001b[0mself\u001b[0m\u001b[0;34m.\u001b[0m\u001b[0mpredict_function\u001b[0m\u001b[0;34m\u001b[0m\u001b[0m\n\u001b[1;32m   1738\u001b[0m     return self._predict_loop(\n\u001b[0;32m-> 1739\u001b[0;31m         f, ins, batch_size=batch_size, verbose=verbose, steps=steps)\n\u001b[0m\u001b[1;32m   1740\u001b[0m \u001b[0;34m\u001b[0m\u001b[0m\n\u001b[1;32m   1741\u001b[0m   \u001b[0;32mdef\u001b[0m \u001b[0mtrain_on_batch\u001b[0m\u001b[0;34m(\u001b[0m\u001b[0mself\u001b[0m\u001b[0;34m,\u001b[0m \u001b[0mx\u001b[0m\u001b[0;34m,\u001b[0m \u001b[0my\u001b[0m\u001b[0;34m,\u001b[0m \u001b[0msample_weight\u001b[0m\u001b[0;34m=\u001b[0m\u001b[0;32mNone\u001b[0m\u001b[0;34m,\u001b[0m \u001b[0mclass_weight\u001b[0m\u001b[0;34m=\u001b[0m\u001b[0;32mNone\u001b[0m\u001b[0;34m)\u001b[0m\u001b[0;34m:\u001b[0m\u001b[0;34m\u001b[0m\u001b[0m\n",
      "\u001b[0;32m/usr/local/anaconda/5.0.1-Python3.6-gcc5/envs/tensorflow-1.4-py3.6/lib/python3.6/site-packages/tensorflow/python/keras/_impl/keras/engine/training.py\u001b[0m in \u001b[0;36m_predict_loop\u001b[0;34m(self, f, ins, batch_size, verbose, steps)\u001b[0m\n\u001b[1;32m   1278\u001b[0m         \u001b[0;32melse\u001b[0m\u001b[0;34m:\u001b[0m\u001b[0;34m\u001b[0m\u001b[0m\n\u001b[1;32m   1279\u001b[0m           \u001b[0mins_batch\u001b[0m \u001b[0;34m=\u001b[0m \u001b[0m_slice_arrays\u001b[0m\u001b[0;34m(\u001b[0m\u001b[0mins\u001b[0m\u001b[0;34m,\u001b[0m \u001b[0mbatch_ids\u001b[0m\u001b[0;34m)\u001b[0m\u001b[0;34m\u001b[0m\u001b[0m\n\u001b[0;32m-> 1280\u001b[0;31m         \u001b[0mbatch_outs\u001b[0m \u001b[0;34m=\u001b[0m \u001b[0mf\u001b[0m\u001b[0;34m(\u001b[0m\u001b[0mins_batch\u001b[0m\u001b[0;34m)\u001b[0m\u001b[0;34m\u001b[0m\u001b[0m\n\u001b[0m\u001b[1;32m   1281\u001b[0m         \u001b[0;32mif\u001b[0m \u001b[0;32mnot\u001b[0m \u001b[0misinstance\u001b[0m\u001b[0;34m(\u001b[0m\u001b[0mbatch_outs\u001b[0m\u001b[0;34m,\u001b[0m \u001b[0mlist\u001b[0m\u001b[0;34m)\u001b[0m\u001b[0;34m:\u001b[0m\u001b[0;34m\u001b[0m\u001b[0m\n\u001b[1;32m   1282\u001b[0m           \u001b[0mbatch_outs\u001b[0m \u001b[0;34m=\u001b[0m \u001b[0;34m[\u001b[0m\u001b[0mbatch_outs\u001b[0m\u001b[0;34m]\u001b[0m\u001b[0;34m\u001b[0m\u001b[0m\n",
      "\u001b[0;32m/usr/local/anaconda/5.0.1-Python3.6-gcc5/envs/tensorflow-1.4-py3.6/lib/python3.6/site-packages/tensorflow/python/keras/_impl/keras/backend.py\u001b[0m in \u001b[0;36m__call__\u001b[0;34m(self, inputs)\u001b[0m\n\u001b[1;32m   2475\u001b[0m         \u001b[0mself\u001b[0m\u001b[0;34m.\u001b[0m\u001b[0moutputs\u001b[0m \u001b[0;34m+\u001b[0m \u001b[0;34m[\u001b[0m\u001b[0mself\u001b[0m\u001b[0;34m.\u001b[0m\u001b[0mupdates_op\u001b[0m\u001b[0;34m]\u001b[0m\u001b[0;34m,\u001b[0m\u001b[0;34m\u001b[0m\u001b[0m\n\u001b[1;32m   2476\u001b[0m         \u001b[0mfeed_dict\u001b[0m\u001b[0;34m=\u001b[0m\u001b[0mfeed_dict\u001b[0m\u001b[0;34m,\u001b[0m\u001b[0;34m\u001b[0m\u001b[0m\n\u001b[0;32m-> 2477\u001b[0;31m         **self.session_kwargs)\n\u001b[0m\u001b[1;32m   2478\u001b[0m     \u001b[0;32mreturn\u001b[0m \u001b[0mupdated\u001b[0m\u001b[0;34m[\u001b[0m\u001b[0;34m:\u001b[0m\u001b[0mlen\u001b[0m\u001b[0;34m(\u001b[0m\u001b[0mself\u001b[0m\u001b[0;34m.\u001b[0m\u001b[0moutputs\u001b[0m\u001b[0;34m)\u001b[0m\u001b[0;34m]\u001b[0m\u001b[0;34m\u001b[0m\u001b[0m\n\u001b[1;32m   2479\u001b[0m \u001b[0;34m\u001b[0m\u001b[0m\n",
      "\u001b[0;32m/usr/local/anaconda/5.0.1-Python3.6-gcc5/envs/tensorflow-1.4-py3.6/lib/python3.6/site-packages/tensorflow/python/client/session.py\u001b[0m in \u001b[0;36mrun\u001b[0;34m(self, fetches, feed_dict, options, run_metadata)\u001b[0m\n\u001b[1;32m    887\u001b[0m     \u001b[0;32mtry\u001b[0m\u001b[0;34m:\u001b[0m\u001b[0;34m\u001b[0m\u001b[0m\n\u001b[1;32m    888\u001b[0m       result = self._run(None, fetches, feed_dict, options_ptr,\n\u001b[0;32m--> 889\u001b[0;31m                          run_metadata_ptr)\n\u001b[0m\u001b[1;32m    890\u001b[0m       \u001b[0;32mif\u001b[0m \u001b[0mrun_metadata\u001b[0m\u001b[0;34m:\u001b[0m\u001b[0;34m\u001b[0m\u001b[0m\n\u001b[1;32m    891\u001b[0m         \u001b[0mproto_data\u001b[0m \u001b[0;34m=\u001b[0m \u001b[0mtf_session\u001b[0m\u001b[0;34m.\u001b[0m\u001b[0mTF_GetBuffer\u001b[0m\u001b[0;34m(\u001b[0m\u001b[0mrun_metadata_ptr\u001b[0m\u001b[0;34m)\u001b[0m\u001b[0;34m\u001b[0m\u001b[0m\n",
      "\u001b[0;32m/usr/local/anaconda/5.0.1-Python3.6-gcc5/envs/tensorflow-1.4-py3.6/lib/python3.6/site-packages/tensorflow/python/client/session.py\u001b[0m in \u001b[0;36m_run\u001b[0;34m(self, handle, fetches, feed_dict, options, run_metadata)\u001b[0m\n\u001b[1;32m   1118\u001b[0m     \u001b[0;32mif\u001b[0m \u001b[0mfinal_fetches\u001b[0m \u001b[0;32mor\u001b[0m \u001b[0mfinal_targets\u001b[0m \u001b[0;32mor\u001b[0m \u001b[0;34m(\u001b[0m\u001b[0mhandle\u001b[0m \u001b[0;32mand\u001b[0m \u001b[0mfeed_dict_tensor\u001b[0m\u001b[0;34m)\u001b[0m\u001b[0;34m:\u001b[0m\u001b[0;34m\u001b[0m\u001b[0m\n\u001b[1;32m   1119\u001b[0m       results = self._do_run(handle, final_targets, final_fetches,\n\u001b[0;32m-> 1120\u001b[0;31m                              feed_dict_tensor, options, run_metadata)\n\u001b[0m\u001b[1;32m   1121\u001b[0m     \u001b[0;32melse\u001b[0m\u001b[0;34m:\u001b[0m\u001b[0;34m\u001b[0m\u001b[0m\n\u001b[1;32m   1122\u001b[0m       \u001b[0mresults\u001b[0m \u001b[0;34m=\u001b[0m \u001b[0;34m[\u001b[0m\u001b[0;34m]\u001b[0m\u001b[0;34m\u001b[0m\u001b[0m\n",
      "\u001b[0;32m/usr/local/anaconda/5.0.1-Python3.6-gcc5/envs/tensorflow-1.4-py3.6/lib/python3.6/site-packages/tensorflow/python/client/session.py\u001b[0m in \u001b[0;36m_do_run\u001b[0;34m(self, handle, target_list, fetch_list, feed_dict, options, run_metadata)\u001b[0m\n\u001b[1;32m   1315\u001b[0m     \u001b[0;32mif\u001b[0m \u001b[0mhandle\u001b[0m \u001b[0;32mis\u001b[0m \u001b[0;32mNone\u001b[0m\u001b[0;34m:\u001b[0m\u001b[0;34m\u001b[0m\u001b[0m\n\u001b[1;32m   1316\u001b[0m       return self._do_call(_run_fn, self._session, feeds, fetches, targets,\n\u001b[0;32m-> 1317\u001b[0;31m                            options, run_metadata)\n\u001b[0m\u001b[1;32m   1318\u001b[0m     \u001b[0;32melse\u001b[0m\u001b[0;34m:\u001b[0m\u001b[0;34m\u001b[0m\u001b[0m\n\u001b[1;32m   1319\u001b[0m       \u001b[0;32mreturn\u001b[0m \u001b[0mself\u001b[0m\u001b[0;34m.\u001b[0m\u001b[0m_do_call\u001b[0m\u001b[0;34m(\u001b[0m\u001b[0m_prun_fn\u001b[0m\u001b[0;34m,\u001b[0m \u001b[0mself\u001b[0m\u001b[0;34m.\u001b[0m\u001b[0m_session\u001b[0m\u001b[0;34m,\u001b[0m \u001b[0mhandle\u001b[0m\u001b[0;34m,\u001b[0m \u001b[0mfeeds\u001b[0m\u001b[0;34m,\u001b[0m \u001b[0mfetches\u001b[0m\u001b[0;34m)\u001b[0m\u001b[0;34m\u001b[0m\u001b[0m\n",
      "\u001b[0;32m/usr/local/anaconda/5.0.1-Python3.6-gcc5/envs/tensorflow-1.4-py3.6/lib/python3.6/site-packages/tensorflow/python/client/session.py\u001b[0m in \u001b[0;36m_do_call\u001b[0;34m(self, fn, *args)\u001b[0m\n\u001b[1;32m   1334\u001b[0m         \u001b[0;32mexcept\u001b[0m \u001b[0mKeyError\u001b[0m\u001b[0;34m:\u001b[0m\u001b[0;34m\u001b[0m\u001b[0m\n\u001b[1;32m   1335\u001b[0m           \u001b[0;32mpass\u001b[0m\u001b[0;34m\u001b[0m\u001b[0m\n\u001b[0;32m-> 1336\u001b[0;31m       \u001b[0;32mraise\u001b[0m \u001b[0mtype\u001b[0m\u001b[0;34m(\u001b[0m\u001b[0me\u001b[0m\u001b[0;34m)\u001b[0m\u001b[0;34m(\u001b[0m\u001b[0mnode_def\u001b[0m\u001b[0;34m,\u001b[0m \u001b[0mop\u001b[0m\u001b[0;34m,\u001b[0m \u001b[0mmessage\u001b[0m\u001b[0;34m)\u001b[0m\u001b[0;34m\u001b[0m\u001b[0m\n\u001b[0m\u001b[1;32m   1337\u001b[0m \u001b[0;34m\u001b[0m\u001b[0m\n\u001b[1;32m   1338\u001b[0m   \u001b[0;32mdef\u001b[0m \u001b[0m_extend_graph\u001b[0m\u001b[0;34m(\u001b[0m\u001b[0mself\u001b[0m\u001b[0;34m)\u001b[0m\u001b[0;34m:\u001b[0m\u001b[0;34m\u001b[0m\u001b[0m\n",
      "\u001b[0;31mInvalidArgumentError\u001b[0m: You must feed a value for placeholder tensor 'lstm/keras_learning_phase' with dtype bool\n\t [[Node: lstm/keras_learning_phase = Placeholder[dtype=DT_BOOL, shape=<unknown>, _device=\"/job:localhost/replica:0/task:0/device:GPU:0\"]()]]\n\t [[Node: lstm/keras_learning_phase/_1137 = _HostRecv[client_terminated=false, recv_device=\"/job:localhost/replica:0/task:0/device:CPU:0\", send_device=\"/job:localhost/replica:0/task:0/device:GPU:0\", send_device_incarnation=1, tensor_name=\"edge_58_lstm/keras_learning_phase\", tensor_type=DT_BOOL, _device=\"/job:localhost/replica:0/task:0/device:CPU:0\"]()]]\n\nCaused by op 'lstm/keras_learning_phase', defined at:\n  File \"/usr/local/anaconda/5.0.1-Python3.6-gcc5/envs/tensorflow-1.4-py3.6/lib/python3.6/runpy.py\", line 193, in _run_module_as_main\n    \"__main__\", mod_spec)\n  File \"/usr/local/anaconda/5.0.1-Python3.6-gcc5/envs/tensorflow-1.4-py3.6/lib/python3.6/runpy.py\", line 85, in _run_code\n    exec(code, run_globals)\n  File \"/home/osal10/.local/lib/python3.6/site-packages/ipykernel_launcher.py\", line 16, in <module>\n    app.launch_new_instance()\n  File \"/home/osal10/.local/lib/python3.6/site-packages/traitlets/config/application.py\", line 658, in launch_instance\n    app.start()\n  File \"/home/osal10/.local/lib/python3.6/site-packages/ipykernel/kernelapp.py\", line 486, in start\n    self.io_loop.start()\n  File \"/home/osal10/.local/lib/python3.6/site-packages/tornado/platform/asyncio.py\", line 132, in start\n    self.asyncio_loop.run_forever()\n  File \"/usr/local/anaconda/5.0.1-Python3.6-gcc5/envs/tensorflow-1.4-py3.6/lib/python3.6/asyncio/base_events.py\", line 421, in run_forever\n    self._run_once()\n  File \"/usr/local/anaconda/5.0.1-Python3.6-gcc5/envs/tensorflow-1.4-py3.6/lib/python3.6/asyncio/base_events.py\", line 1431, in _run_once\n    handle._run()\n  File \"/usr/local/anaconda/5.0.1-Python3.6-gcc5/envs/tensorflow-1.4-py3.6/lib/python3.6/asyncio/events.py\", line 145, in _run\n    self._callback(*self._args)\n  File \"/home/osal10/.local/lib/python3.6/site-packages/tornado/platform/asyncio.py\", line 122, in _handle_events\n    handler_func(fileobj, events)\n  File \"/home/osal10/.local/lib/python3.6/site-packages/tornado/stack_context.py\", line 300, in null_wrapper\n    return fn(*args, **kwargs)\n  File \"/home/osal10/.local/lib/python3.6/site-packages/zmq/eventloop/zmqstream.py\", line 450, in _handle_events\n    self._handle_recv()\n  File \"/home/osal10/.local/lib/python3.6/site-packages/zmq/eventloop/zmqstream.py\", line 480, in _handle_recv\n    self._run_callback(callback, msg)\n  File \"/home/osal10/.local/lib/python3.6/site-packages/zmq/eventloop/zmqstream.py\", line 432, in _run_callback\n    callback(*args, **kwargs)\n  File \"/home/osal10/.local/lib/python3.6/site-packages/tornado/stack_context.py\", line 300, in null_wrapper\n    return fn(*args, **kwargs)\n  File \"/home/osal10/.local/lib/python3.6/site-packages/ipykernel/kernelbase.py\", line 283, in dispatcher\n    return self.dispatch_shell(stream, msg)\n  File \"/home/osal10/.local/lib/python3.6/site-packages/ipykernel/kernelbase.py\", line 233, in dispatch_shell\n    handler(stream, idents, msg)\n  File \"/home/osal10/.local/lib/python3.6/site-packages/ipykernel/kernelbase.py\", line 399, in execute_request\n    user_expressions, allow_stdin)\n  File \"/home/osal10/.local/lib/python3.6/site-packages/ipykernel/ipkernel.py\", line 208, in do_execute\n    res = shell.run_cell(code, store_history=store_history, silent=silent)\n  File \"/home/osal10/.local/lib/python3.6/site-packages/ipykernel/zmqshell.py\", line 537, in run_cell\n    return super(ZMQInteractiveShell, self).run_cell(*args, **kwargs)\n  File \"/home/osal10/.local/lib/python3.6/site-packages/IPython/core/interactiveshell.py\", line 2662, in run_cell\n    raw_cell, store_history, silent, shell_futures)\n  File \"/home/osal10/.local/lib/python3.6/site-packages/IPython/core/interactiveshell.py\", line 2785, in _run_cell\n    interactivity=interactivity, compiler=compiler, result=result)\n  File \"/home/osal10/.local/lib/python3.6/site-packages/IPython/core/interactiveshell.py\", line 2901, in run_ast_nodes\n    if self.run_code(code, result):\n  File \"/home/osal10/.local/lib/python3.6/site-packages/IPython/core/interactiveshell.py\", line 2961, in run_code\n    exec(code_obj, self.user_global_ns, self.user_ns)\n  File \"<ipython-input-23-b38dbc09c924>\", line 12, in <module>\n    encoder_outputs, state_h, state_c = encoder(encoder_inputs)\n  File \"/usr/local/anaconda/5.0.1-Python3.6-gcc5/envs/tensorflow-1.4-py3.6/lib/python3.6/site-packages/tensorflow/python/keras/_impl/keras/layers/recurrent.py\", line 293, in __call__\n    return super(Recurrent, self).__call__(inputs, **kwargs)\n  File \"/usr/local/anaconda/5.0.1-Python3.6-gcc5/envs/tensorflow-1.4-py3.6/lib/python3.6/site-packages/tensorflow/python/keras/_impl/keras/engine/topology.py\", line 252, in __call__\n    output = super(Layer, self).__call__(inputs, **kwargs)\n  File \"/usr/local/anaconda/5.0.1-Python3.6-gcc5/envs/tensorflow-1.4-py3.6/lib/python3.6/site-packages/tensorflow/python/layers/base.py\", line 575, in __call__\n    outputs = self.call(inputs, *args, **kwargs)\n  File \"/usr/local/anaconda/5.0.1-Python3.6-gcc5/envs/tensorflow-1.4-py3.6/lib/python3.6/site-packages/tensorflow/python/keras/_impl/keras/layers/recurrent.py\", line 363, in call\n    preprocessed_input = self.preprocess_input(inputs, training=None)\n  File \"/usr/local/anaconda/5.0.1-Python3.6-gcc5/envs/tensorflow-1.4-py3.6/lib/python3.6/site-packages/tensorflow/python/keras/_impl/keras/layers/recurrent.py\", line 1129, in preprocess_input\n    training=training)\n  File \"/usr/local/anaconda/5.0.1-Python3.6-gcc5/envs/tensorflow-1.4-py3.6/lib/python3.6/site-packages/tensorflow/python/keras/_impl/keras/layers/recurrent.py\", line 73, in _time_distributed_dense\n    x = K.in_train_phase(x * expanded_dropout_matrix, x, training=training)\n  File \"/usr/local/anaconda/5.0.1-Python3.6-gcc5/envs/tensorflow-1.4-py3.6/lib/python3.6/site-packages/tensorflow/python/keras/_impl/keras/backend.py\", line 2820, in in_train_phase\n    training = learning_phase()\n  File \"/usr/local/anaconda/5.0.1-Python3.6-gcc5/envs/tensorflow-1.4-py3.6/lib/python3.6/site-packages/tensorflow/python/keras/_impl/keras/backend.py\", line 325, in learning_phase\n    phase = array_ops.placeholder(dtype='bool', name='keras_learning_phase')\n  File \"/usr/local/anaconda/5.0.1-Python3.6-gcc5/envs/tensorflow-1.4-py3.6/lib/python3.6/site-packages/tensorflow/python/ops/array_ops.py\", line 1599, in placeholder\n    return gen_array_ops._placeholder(dtype=dtype, shape=shape, name=name)\n  File \"/usr/local/anaconda/5.0.1-Python3.6-gcc5/envs/tensorflow-1.4-py3.6/lib/python3.6/site-packages/tensorflow/python/ops/gen_array_ops.py\", line 3091, in _placeholder\n    \"Placeholder\", dtype=dtype, shape=shape, name=name)\n  File \"/usr/local/anaconda/5.0.1-Python3.6-gcc5/envs/tensorflow-1.4-py3.6/lib/python3.6/site-packages/tensorflow/python/framework/op_def_library.py\", line 787, in _apply_op_helper\n    op_def=op_def)\n  File \"/usr/local/anaconda/5.0.1-Python3.6-gcc5/envs/tensorflow-1.4-py3.6/lib/python3.6/site-packages/tensorflow/python/framework/ops.py\", line 2956, in create_op\n    op_def=op_def)\n  File \"/usr/local/anaconda/5.0.1-Python3.6-gcc5/envs/tensorflow-1.4-py3.6/lib/python3.6/site-packages/tensorflow/python/framework/ops.py\", line 1470, in __init__\n    self._traceback = self._graph._extract_stack()  # pylint: disable=protected-access\n\nInvalidArgumentError (see above for traceback): You must feed a value for placeholder tensor 'lstm/keras_learning_phase' with dtype bool\n\t [[Node: lstm/keras_learning_phase = Placeholder[dtype=DT_BOOL, shape=<unknown>, _device=\"/job:localhost/replica:0/task:0/device:GPU:0\"]()]]\n\t [[Node: lstm/keras_learning_phase/_1137 = _HostRecv[client_terminated=false, recv_device=\"/job:localhost/replica:0/task:0/device:CPU:0\", send_device=\"/job:localhost/replica:0/task:0/device:GPU:0\", send_device_incarnation=1, tensor_name=\"edge_58_lstm/keras_learning_phase\", tensor_type=DT_BOOL, _device=\"/job:localhost/replica:0/task:0/device:CPU:0\"]()]]\n"
     ]
    }
   ],
   "source": [
    "predict_and_plot(encoder_input_data, decoder_target_data, 100)\n"
   ]
  },
  {
   "cell_type": "code",
   "execution_count": 81,
   "metadata": {},
   "outputs": [
    {
     "name": "stderr",
     "output_type": "stream",
     "text": [
      "/usr/local/anaconda/5.0.1-Python3.6-gcc5/envs/tensorflow-1.4-py3.6/lib/python3.6/site-packages/tensorflow/python/util/tf_inspect.py:45: DeprecationWarning: inspect.getargspec() is deprecated, use inspect.signature() or inspect.getfullargspec()\n",
      "  if d.decorator_argspec is not None), _inspect.getargspec(target))\n",
      "/usr/local/anaconda/5.0.1-Python3.6-gcc5/envs/tensorflow-1.4-py3.6/lib/python3.6/site-packages/tensorflow/python/framework/tensor_util.py:509: DeprecationWarning: The binary mode of fromstring is deprecated, as it behaves surprisingly on unicode inputs. Use frombuffer instead\n",
      "  return np.fromstring(tensor.tensor_content, dtype=dtype).reshape(shape)\n"
     ]
    },
    {
     "name": "stdout",
     "output_type": "stream",
     "text": [
      "(100000, 6) (100000, 3) (100000, 3)\n"
     ]
    },
    {
     "ename": "ValueError",
     "evalue": "Error when checking input: expected input_15 to have 3 dimensions, but got array with shape (100000, 6)",
     "output_type": "error",
     "traceback": [
      "\u001b[0;31m---------------------------------------------------------------------------\u001b[0m",
      "\u001b[0;31mValueError\u001b[0m                                Traceback (most recent call last)",
      "\u001b[0;32m<ipython-input-81-5f97c627e63b>\u001b[0m in \u001b[0;36m<module>\u001b[0;34m()\u001b[0m\n\u001b[1;32m     93\u001b[0m \u001b[0mprint\u001b[0m\u001b[0;34m(\u001b[0m\u001b[0mX1\u001b[0m\u001b[0;34m.\u001b[0m\u001b[0mshape\u001b[0m\u001b[0;34m,\u001b[0m\u001b[0mX2\u001b[0m\u001b[0;34m.\u001b[0m\u001b[0mshape\u001b[0m\u001b[0;34m,\u001b[0m\u001b[0my\u001b[0m\u001b[0;34m.\u001b[0m\u001b[0mshape\u001b[0m\u001b[0;34m)\u001b[0m\u001b[0;34m\u001b[0m\u001b[0m\n\u001b[1;32m     94\u001b[0m \u001b[0;31m# train model\u001b[0m\u001b[0;34m\u001b[0m\u001b[0;34m\u001b[0m\u001b[0m\n\u001b[0;32m---> 95\u001b[0;31m \u001b[0mtrain\u001b[0m\u001b[0;34m.\u001b[0m\u001b[0mfit\u001b[0m\u001b[0;34m(\u001b[0m\u001b[0;34m[\u001b[0m\u001b[0mX1\u001b[0m\u001b[0;34m,\u001b[0m \u001b[0mX2\u001b[0m\u001b[0;34m]\u001b[0m\u001b[0;34m,\u001b[0m \u001b[0my\u001b[0m\u001b[0;34m,\u001b[0m \u001b[0mepochs\u001b[0m\u001b[0;34m=\u001b[0m\u001b[0;36m1\u001b[0m\u001b[0;34m)\u001b[0m\u001b[0;34m\u001b[0m\u001b[0m\n\u001b[0m\u001b[1;32m     96\u001b[0m \u001b[0;31m# evaluate LSTM\u001b[0m\u001b[0;34m\u001b[0m\u001b[0;34m\u001b[0m\u001b[0m\n\u001b[1;32m     97\u001b[0m \u001b[0mtotal\u001b[0m\u001b[0;34m,\u001b[0m \u001b[0mcorrect\u001b[0m \u001b[0;34m=\u001b[0m \u001b[0;36m100\u001b[0m\u001b[0;34m,\u001b[0m \u001b[0;36m0\u001b[0m\u001b[0;34m\u001b[0m\u001b[0m\n",
      "\u001b[0;32m/usr/local/anaconda/5.0.1-Python3.6-gcc5/envs/tensorflow-1.4-py3.6/lib/python3.6/site-packages/tensorflow/python/keras/_impl/keras/engine/training.py\u001b[0m in \u001b[0;36mfit\u001b[0;34m(self, x, y, batch_size, epochs, verbose, callbacks, validation_split, validation_data, shuffle, class_weight, sample_weight, initial_epoch, steps_per_epoch, validation_steps)\u001b[0m\n\u001b[1;32m   1533\u001b[0m         \u001b[0mclass_weight\u001b[0m\u001b[0;34m=\u001b[0m\u001b[0mclass_weight\u001b[0m\u001b[0;34m,\u001b[0m\u001b[0;34m\u001b[0m\u001b[0m\n\u001b[1;32m   1534\u001b[0m         \u001b[0mcheck_batch_axis\u001b[0m\u001b[0;34m=\u001b[0m\u001b[0;32mFalse\u001b[0m\u001b[0;34m,\u001b[0m\u001b[0;34m\u001b[0m\u001b[0m\n\u001b[0;32m-> 1535\u001b[0;31m         batch_size=batch_size)\n\u001b[0m\u001b[1;32m   1536\u001b[0m \u001b[0;34m\u001b[0m\u001b[0m\n\u001b[1;32m   1537\u001b[0m     \u001b[0;31m# Prepare validation data.\u001b[0m\u001b[0;34m\u001b[0m\u001b[0;34m\u001b[0m\u001b[0m\n",
      "\u001b[0;32m/usr/local/anaconda/5.0.1-Python3.6-gcc5/envs/tensorflow-1.4-py3.6/lib/python3.6/site-packages/tensorflow/python/keras/_impl/keras/engine/training.py\u001b[0m in \u001b[0;36m_standardize_user_data\u001b[0;34m(self, x, y, sample_weight, class_weight, check_batch_axis, batch_size)\u001b[0m\n\u001b[1;32m   1392\u001b[0m         \u001b[0mself\u001b[0m\u001b[0;34m.\u001b[0m\u001b[0m_feed_input_shapes\u001b[0m\u001b[0;34m,\u001b[0m\u001b[0;34m\u001b[0m\u001b[0m\n\u001b[1;32m   1393\u001b[0m         \u001b[0mcheck_batch_axis\u001b[0m\u001b[0;34m=\u001b[0m\u001b[0;32mFalse\u001b[0m\u001b[0;34m,\u001b[0m\u001b[0;34m\u001b[0m\u001b[0m\n\u001b[0;32m-> 1394\u001b[0;31m         exception_prefix='input')\n\u001b[0m\u001b[1;32m   1395\u001b[0m     y = _standardize_input_data(\n\u001b[1;32m   1396\u001b[0m         \u001b[0my\u001b[0m\u001b[0;34m,\u001b[0m\u001b[0;34m\u001b[0m\u001b[0m\n",
      "\u001b[0;32m/usr/local/anaconda/5.0.1-Python3.6-gcc5/envs/tensorflow-1.4-py3.6/lib/python3.6/site-packages/tensorflow/python/keras/_impl/keras/engine/training.py\u001b[0m in \u001b[0;36m_standardize_input_data\u001b[0;34m(data, names, shapes, check_batch_axis, exception_prefix)\u001b[0m\n\u001b[1;32m    133\u001b[0m             \u001b[0;34m'Error when checking '\u001b[0m \u001b[0;34m+\u001b[0m \u001b[0mexception_prefix\u001b[0m \u001b[0;34m+\u001b[0m \u001b[0;34m': expected '\u001b[0m \u001b[0;34m+\u001b[0m \u001b[0mnames\u001b[0m\u001b[0;34m[\u001b[0m\u001b[0mi\u001b[0m\u001b[0;34m]\u001b[0m\u001b[0;34m\u001b[0m\u001b[0m\n\u001b[1;32m    134\u001b[0m             \u001b[0;34m+\u001b[0m \u001b[0;34m' to have '\u001b[0m \u001b[0;34m+\u001b[0m \u001b[0mstr\u001b[0m\u001b[0;34m(\u001b[0m\u001b[0mlen\u001b[0m\u001b[0;34m(\u001b[0m\u001b[0mshapes\u001b[0m\u001b[0;34m[\u001b[0m\u001b[0mi\u001b[0m\u001b[0;34m]\u001b[0m\u001b[0;34m)\u001b[0m\u001b[0;34m)\u001b[0m \u001b[0;34m+\u001b[0m\u001b[0;34m\u001b[0m\u001b[0m\n\u001b[0;32m--> 135\u001b[0;31m             ' dimensions, but got array with shape ' + str(array.shape))\n\u001b[0m\u001b[1;32m    136\u001b[0m       \u001b[0;32mfor\u001b[0m \u001b[0mj\u001b[0m\u001b[0;34m,\u001b[0m \u001b[0;34m(\u001b[0m\u001b[0mdim\u001b[0m\u001b[0;34m,\u001b[0m \u001b[0mref_dim\u001b[0m\u001b[0;34m)\u001b[0m \u001b[0;32min\u001b[0m \u001b[0menumerate\u001b[0m\u001b[0;34m(\u001b[0m\u001b[0mzip\u001b[0m\u001b[0;34m(\u001b[0m\u001b[0marray\u001b[0m\u001b[0;34m.\u001b[0m\u001b[0mshape\u001b[0m\u001b[0;34m,\u001b[0m \u001b[0mshapes\u001b[0m\u001b[0;34m[\u001b[0m\u001b[0mi\u001b[0m\u001b[0;34m]\u001b[0m\u001b[0;34m)\u001b[0m\u001b[0;34m)\u001b[0m\u001b[0;34m:\u001b[0m\u001b[0;34m\u001b[0m\u001b[0m\n\u001b[1;32m    137\u001b[0m         \u001b[0;32mif\u001b[0m \u001b[0;32mnot\u001b[0m \u001b[0mj\u001b[0m \u001b[0;32mand\u001b[0m \u001b[0;32mnot\u001b[0m \u001b[0mcheck_batch_axis\u001b[0m\u001b[0;34m:\u001b[0m\u001b[0;34m\u001b[0m\u001b[0m\n",
      "\u001b[0;31mValueError\u001b[0m: Error when checking input: expected input_15 to have 3 dimensions, but got array with shape (100000, 6)"
     ]
    }
   ],
   "source": [
    "from random import randint\n",
    "from numpy import array\n",
    "from numpy import argmax\n",
    "from numpy import array_equal\n",
    "from  tensorflow.python.keras.utils import to_categorical\n",
    "from  tensorflow.python.keras.models import Model\n",
    "from  tensorflow.python.keras.layers import Input, LSTM , Dense\n",
    "\n",
    "# generate a sequence of random integers\n",
    "def generate_sequence(length, n_unique):\n",
    "\treturn [randint(1, n_unique-1) for _ in range(length)]\n",
    "\n",
    "# prepare data for the LSTM\n",
    "def get_dataset(n_in, n_out, cardinality, n_samples):\n",
    "\tX1, X2, y = list(), list(), list()\n",
    "\tfor _ in range(n_samples):\n",
    "\t\t# generate source sequence\n",
    "\t\tsource = generate_sequence(n_in, cardinality)\n",
    "\t\t# define padded target sequence\n",
    "\t\ttarget = source[:n_out]\n",
    "\t\ttarget.reverse()\n",
    "\t\t# create padded input target sequence\n",
    "\t\ttarget_in = [0] + target[:-1]\n",
    "\t\t# encode\n",
    "\t\tsrc_encoded = source\n",
    "\t\ttar_encoded = target\n",
    "\t\ttar2_encoded = target_in\n",
    "\t\t# store\n",
    "\t\tX1.append(src_encoded)\n",
    "\t\tX2.append(tar2_encoded)\n",
    "\t\ty.append(tar_encoded)\n",
    "\treturn array(X1), array(X2), array(y)\n",
    "\n",
    "# returns train, inference_encoder and inference_decoder models\n",
    "def define_models(n_input, n_output, n_units):\n",
    "\t# define training encoder\n",
    "\tencoder_inputs = Input(shape=(None, n_input))\n",
    "\tencoder = LSTM(n_units, return_state=True)\n",
    "\tencoder_outputs, state_h, state_c = encoder(encoder_inputs)\n",
    "\tencoder_states = [state_h, state_c]\n",
    "\t# define training decoder\n",
    "\tdecoder_inputs = Input(shape=(None, n_output))\n",
    "\tdecoder_lstm = LSTM(n_units, return_sequences=True, return_state=True)\n",
    "\tdecoder_outputs, _, _ = decoder_lstm(decoder_inputs, initial_state=encoder_states)\n",
    "\tdecoder_dense = Dense(n_output, activation='linear')\n",
    "\tdecoder_outputs = decoder_dense(decoder_outputs)\n",
    "\tmodel = Model([encoder_inputs, decoder_inputs], decoder_outputs)\n",
    "\t# define inference encoder\n",
    "\tencoder_model = Model(encoder_inputs, encoder_states)\n",
    "\t# define inference decoder\n",
    "\tdecoder_state_input_h = Input(shape=(n_units,))\n",
    "\tdecoder_state_input_c = Input(shape=(n_units,))\n",
    "\tdecoder_states_inputs = [decoder_state_input_h, decoder_state_input_c]\n",
    "\tdecoder_outputs, state_h, state_c = decoder_lstm(decoder_inputs, initial_state=decoder_states_inputs)\n",
    "\tdecoder_states = [state_h, state_c]\n",
    "\tdecoder_outputs = decoder_dense(decoder_outputs)\n",
    "\tdecoder_model = Model([decoder_inputs] + decoder_states_inputs, [decoder_outputs] + decoder_states)\n",
    "\t# return all models\n",
    "\treturn model, encoder_model, decoder_model\n",
    "\n",
    "# generate target given source sequence\n",
    "def predict_sequence(infenc, infdec, source, n_steps, cardinality):\n",
    "\t# encode\n",
    "\tstate = infenc.predict(source)\n",
    "\t# start of sequence input\n",
    "\ttarget_seq = array([0.0 for _ in range(cardinality)]).reshape(1, 1, cardinality)\n",
    "\t# collect predictions\n",
    "\toutput = list()\n",
    "\tfor t in range(n_steps):\n",
    "\t\t# predict next char\n",
    "\t\tyhat, h, c = infdec.predict([target_seq] + state)\n",
    "\t\t# store prediction\n",
    "\t\toutput.append(yhat[0,0,:])\n",
    "\t\t# update state\n",
    "\t\tstate = [h, c]\n",
    "\t\t# update target sequence\n",
    "\t\ttarget_seq = yhat\n",
    "\treturn array(output)\n",
    "\n",
    "# decode a one hot encoded string\n",
    "def one_hot_decode(encoded_seq):\n",
    "\treturn [argmax(vector) for vector in encoded_seq]\n",
    "\n",
    "# configure problem\n",
    "n_features = 50 + 1\n",
    "n_steps_in = 6\n",
    "n_steps_out = 3\n",
    "# define model\n",
    "train, infenc, infdec = define_models(n_features, n_features, 128)\n",
    "train.compile(optimizer='adam', loss='mse', metrics=['acc'])\n",
    "# generate training dataset\n",
    "X1, X2, y = get_dataset(n_steps_in, n_steps_out, n_features, 100000)\n",
    "print(X1.shape,X2.shape,y.shape)\n",
    "# train model\n",
    "train.fit([X1, X2], y, epochs=1)\n",
    "# evaluate LSTM\n",
    "total, correct = 100, 0\n",
    "for _ in range(total):\n",
    "\tX1, X2, y = get_dataset(n_steps_in, n_steps_out, n_features, 1)\n",
    "\ttarget = predict_sequence(infenc, infdec, X1, n_steps_out, n_features)\n",
    "\tif array_equal(one_hot_decode(y[0]), one_hot_decode(target)):\n",
    "\t\tcorrect += 1\n",
    "print('Accuracy: %.2f%%' % (float(correct)/float(total)*100.0))\n",
    "# spot check some examples\n",
    "for _ in range(10):\n",
    "\tX1, X2, y = get_dataset(n_steps_in, n_steps_out, n_features, 1)\n",
    "\ttarget = predict_sequence(infenc, infdec, X1, n_steps_out, n_features)\n",
    "\tprint('X=%s y=%s, yhat=%s' % (one_hot_decode(X1[0]), one_hot_decode(y[0]), one_hot_decode(target)))"
   ]
  },
  {
   "cell_type": "code",
   "execution_count": null,
   "metadata": {},
   "outputs": [],
   "source": []
  }
 ],
 "metadata": {
  "kernelspec": {
   "display_name": "Python 3",
   "language": "python",
   "name": "python3"
  },
  "language_info": {
   "codemirror_mode": {
    "name": "ipython",
    "version": 3
   },
   "file_extension": ".py",
   "mimetype": "text/x-python",
   "name": "python",
   "nbconvert_exporter": "python",
   "pygments_lexer": "ipython3",
   "version": "3.6.4"
  }
 },
 "nbformat": 4,
 "nbformat_minor": 2
}
